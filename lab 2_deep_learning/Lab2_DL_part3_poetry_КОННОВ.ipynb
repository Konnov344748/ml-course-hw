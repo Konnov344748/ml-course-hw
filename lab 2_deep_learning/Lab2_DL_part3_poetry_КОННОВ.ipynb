{
  "cells": [
    {
      "cell_type": "markdown",
      "metadata": {
        "id": "mC5m2LJ_oWSU"
      },
      "source": [
        "## Lab 2"
      ]
    },
    {
      "cell_type": "markdown",
      "metadata": {
        "id": "mzi7EaIFoWSX"
      },
      "source": [
        "### Part 3. Poetry generation\n",
        "\n",
        "Let's try to generate some poetry using RNNs.\n",
        "\n",
        "You have several choices here:\n",
        "\n",
        "* The Shakespeare sonnets, file `sonnets.txt` available in the notebook directory.\n",
        "\n",
        "* Роман в стихах \"Евгений Онегин\" Александра Сергеевича Пушкина. В предобработанном виде доступен по [ссылке](https://github.com/attatrol/data_sources/blob/master/onegin.txt).\n",
        "\n",
        "* Some other text source, if it will be approved by the course staff.\n",
        "\n",
        "Text generation can be designed in several steps:\n",
        "    \n",
        "1. Data loading.\n",
        "2. Dictionary generation.\n",
        "3. Data preprocessing.\n",
        "4. Model (neural network) training.\n",
        "5. Text generation (model evaluation).\n"
      ]
    },
    {
      "cell_type": "markdown",
      "source": [
        "Из личных интересов выберу \"Евгения Онегина\""
      ],
      "metadata": {
        "id": "5xxws4_6ohRV"
      }
    },
    {
      "cell_type": "code",
      "execution_count": 9,
      "metadata": {
        "id": "TH5sL591oWSY"
      },
      "outputs": [],
      "source": [
        "import string\n",
        "import os\n",
        "from sklearn.model_selection import train_test_split\n",
        "import re\n",
        "import numpy as np"
      ]
    },
    {
      "cell_type": "markdown",
      "metadata": {
        "id": "uF-XJhPXoWSa"
      },
      "source": [
        "### Data loading: Shakespeare"
      ]
    },
    {
      "cell_type": "markdown",
      "metadata": {
        "id": "92Vi3gysoWSc"
      },
      "source": [
        "Shakespeare sonnets are awailable at this [link](http://www.gutenberg.org/ebooks/1041?msg=welcome_stranger). In addition, they are stored in the same directory as this notebook (`sonnetes.txt`). Simple preprocessing is already done for you in the next cell: all technical info is dropped."
      ]
    },
    {
      "cell_type": "code",
      "execution_count": 10,
      "metadata": {
        "collapsed": true,
        "id": "DZnQiUSRoWSc"
      },
      "outputs": [],
      "source": [
        "# if not os.path.exists('sonnets.txt'):\n",
        "#     !wget https://raw.githubusercontent.com/girafe-ai/ml-course/22f_basic/homeworks_basic/lab02_deep_learning/sonnets.txt\n",
        "\n",
        "# with open('sonnets.txt', 'r') as iofile:\n",
        "#     text = iofile.readlines()\n",
        "\n",
        "# TEXT_START = 45\n",
        "# TEXT_END = -368\n",
        "# text = text[TEXT_START : TEXT_END]\n",
        "# assert len(text) == 2616"
      ]
    },
    {
      "cell_type": "markdown",
      "metadata": {
        "id": "AFBR-m36oWSd"
      },
      "source": [
        "In opposite to the in-class practice, this time we want to predict complex text. Let's reduce the complexity of the task and lowercase all the symbols.\n",
        "\n",
        "Now variable `text` is a list of strings. Join all the strings into one and lowercase it."
      ]
    },
    {
      "cell_type": "code",
      "execution_count": 11,
      "metadata": {
        "id": "R-bq4IZnoWSe"
      },
      "outputs": [],
      "source": [
        "# Join all the strings into one and lowercase it\n",
        "# Put result into variable text.\n",
        "\n",
        "# Your great code here\n",
        "\n",
        "# assert len(text) == 100225, 'Are you sure you have concatenated all the strings?'\n",
        "# assert not any([x in set(text) for x in string.ascii_uppercase]), 'Uppercase letters are present'\n",
        "# print('OK!')"
      ]
    },
    {
      "cell_type": "markdown",
      "metadata": {
        "id": "v56evs3HoWSf"
      },
      "source": [
        "### Data loading: \"Евгений Онегин\"\n"
      ]
    },
    {
      "cell_type": "code",
      "execution_count": 12,
      "metadata": {
        "colab": {
          "base_uri": "https://localhost:8080/"
        },
        "id": "zi6i--KpoWSg",
        "outputId": "7c97f8fc-3b42-43b1-d7b5-98bc86635fe6"
      },
      "outputs": [
        {
          "output_type": "stream",
          "name": "stdout",
          "text": [
            "--2023-12-23 14:05:45--  https://raw.githubusercontent.com/attatrol/data_sources/master/onegin.txt\n",
            "Resolving raw.githubusercontent.com (raw.githubusercontent.com)... 185.199.111.133, 185.199.108.133, 185.199.109.133, ...\n",
            "Connecting to raw.githubusercontent.com (raw.githubusercontent.com)|185.199.111.133|:443... connected.\n",
            "HTTP request sent, awaiting response... 200 OK\n",
            "Length: 262521 (256K) [text/plain]\n",
            "Saving to: ‘onegin.txt.1’\n",
            "\n",
            "\ronegin.txt.1          0%[                    ]       0  --.-KB/s               \ronegin.txt.1        100%[===================>] 256.37K  --.-KB/s    in 0.007s  \n",
            "\n",
            "2023-12-23 14:05:45 (35.4 MB/s) - ‘onegin.txt.1’ saved [262521/262521]\n",
            "\n"
          ]
        }
      ],
      "source": [
        "!wget https://raw.githubusercontent.com/attatrol/data_sources/master/onegin.txt\n",
        "\n",
        "with open('onegin.txt', 'r') as iofile:\n",
        "    text = iofile.readlines()\n",
        "\n",
        "text = [x.replace('\\t\\t', '') for x in text]"
      ]
    },
    {
      "cell_type": "markdown",
      "metadata": {
        "id": "gVEgnPa-oWSh"
      },
      "source": [
        "In opposite to the in-class practice, this time we want to predict complex text. Let's reduce the complexity of the task and lowercase all the symbols.\n",
        "\n",
        "Now variable `text` is a list of strings. Join all the strings into one and lowercase it."
      ]
    },
    {
      "cell_type": "markdown",
      "source": [
        "сразу же избавимся от мусора с помощью регулярных выражений"
      ],
      "metadata": {
        "id": "_PrnoqQUokP2"
      }
    },
    {
      "cell_type": "code",
      "execution_count": 13,
      "metadata": {
        "id": "RjAkiu3joWSi"
      },
      "outputs": [],
      "source": [
        "text = ''.join(text).lower()\n",
        "\n",
        "text = re.sub('[^\\nа-я ]', '', text)\n",
        "text = re.sub(' +', ' ', text)\n",
        "text = re.sub('\\n\\n+', '\\n\\n', text)\n",
        "separate_chars = list(filter(bool, text.split('\\n\\n')))\n",
        "lines = text.split('\\n')\n",
        "lines = list(filter(bool, lines))"
      ]
    },
    {
      "cell_type": "markdown",
      "source": [
        "lines хранит списсок из строк. По сути потом именно их мы и будем отправлять в модель"
      ],
      "metadata": {
        "id": "aMs9lMb9ox8p"
      }
    },
    {
      "cell_type": "markdown",
      "metadata": {
        "id": "9RHZ3473oWSj"
      },
      "source": [
        "Put all the characters, that you've seen in the text, into variable `tokens`."
      ]
    },
    {
      "cell_type": "code",
      "execution_count": 14,
      "metadata": {
        "id": "UU_ocQ2goWSj"
      },
      "outputs": [],
      "source": [
        "tokens = sorted(set(text))"
      ]
    },
    {
      "cell_type": "markdown",
      "source": [
        "Note: Хорошо почистили текст, избавились от латиницы, остались только пробелы и переносы строк."
      ],
      "metadata": {
        "id": "5Vxkw8EQp5JG"
      }
    },
    {
      "cell_type": "code",
      "source": [
        "print(tokens)"
      ],
      "metadata": {
        "colab": {
          "base_uri": "https://localhost:8080/"
        },
        "id": "QZnGMIe1p17B",
        "outputId": "dd049f86-edd9-4b0b-b69b-5563311bb436"
      },
      "execution_count": 15,
      "outputs": [
        {
          "output_type": "stream",
          "name": "stdout",
          "text": [
            "['\\n', ' ', 'а', 'б', 'в', 'г', 'д', 'е', 'ж', 'з', 'и', 'й', 'к', 'л', 'м', 'н', 'о', 'п', 'р', 'с', 'т', 'у', 'ф', 'х', 'ц', 'ч', 'ш', 'щ', 'ъ', 'ы', 'ь', 'э', 'ю', 'я']\n"
          ]
        }
      ]
    },
    {
      "cell_type": "markdown",
      "source": [
        "Добавим два спец символа в токены для обозначания начала и конца строки"
      ],
      "metadata": {
        "id": "a-lo6xBopFta"
      }
    },
    {
      "cell_type": "code",
      "source": [
        "tokens.append('^')\n",
        "tokens.append('$')"
      ],
      "metadata": {
        "id": "kLHYqC0RpIpI"
      },
      "execution_count": 16,
      "outputs": []
    },
    {
      "cell_type": "markdown",
      "metadata": {
        "id": "r03tLT-zoWSj"
      },
      "source": [
        "Create dictionary `token_to_idx = {<char>: <index>}` and dictionary `idx_to_token = {<index>: <char>}`"
      ]
    },
    {
      "cell_type": "code",
      "execution_count": 17,
      "metadata": {
        "collapsed": true,
        "id": "UujCPp3-oWSj"
      },
      "outputs": [],
      "source": [
        "# dict <index>:<char>\n",
        "token_to_id = {char : i for i, char in enumerate(tokens)}\n",
        "\n",
        "# dict <char>:<index>\n",
        "id_to_token = {i : char for i, char in enumerate(tokens)}"
      ]
    },
    {
      "cell_type": "markdown",
      "metadata": {
        "id": "2IU5DOgnoWSo"
      },
      "source": [
        "*Comment: in this task we have only 38 different tokens, so let's use one-hot encoding.*"
      ]
    },
    {
      "cell_type": "code",
      "source": [
        "train_chars, test_chars = train_test_split(separate_chars, test_size=0.2, random_state=69)\n",
        "train_lines, test_lines = train_test_split(lines, test_size=0.2, random_state=65)"
      ],
      "metadata": {
        "id": "_xOzFIXYw-P1"
      },
      "execution_count": 18,
      "outputs": []
    },
    {
      "cell_type": "code",
      "source": [
        "# encode our charactes\n",
        "\n",
        "def to_matrix(lines, max_len=None):\n",
        "    \"\"\"Casts a list of lines into rnn-digestable matrix\"\"\"\n",
        "\n",
        "    max_len = max_len or max(map(len, lines))\n",
        "    matrix = np.zeros([len(lines), max_len + 2], dtype=int)\n",
        "    matrix[:, 0] = token_to_id['^']\n",
        "    for i in range(len(lines)):\n",
        "        idx = [token_to_id[c] for c in lines[i]]\n",
        "        matrix[i, 1:len(idx)+1] = idx\n",
        "        matrix[i, len(idx) + 1:] = token_to_id['$']\n",
        "\n",
        "    return matrix\n",
        "\n",
        "to_matrix(lines[: 7])"
      ],
      "metadata": {
        "colab": {
          "base_uri": "https://localhost:8080/"
        },
        "id": "CYSFIGJGqvgS",
        "outputId": "fa73035b-6b6e-41f7-bfd8-1356f25c112e"
      },
      "execution_count": 19,
      "outputs": [
        {
          "output_type": "execute_result",
          "data": {
            "text/plain": [
              "array([[34, 14, 16, 11,  1,  6, 33,  6, 33,  1, 19,  2, 14, 29, 23,  1,\n",
              "        25,  7, 19, 20, 15, 29, 23,  1, 17, 18,  2,  4, 10, 13, 35, 35],\n",
              "       [34, 12, 16,  5,  6,  2,  1, 15,  7,  1,  4,  1, 26, 21, 20, 12,\n",
              "        21,  1,  9,  2, 15,  7, 14, 16,  5, 35, 35, 35, 35, 35, 35, 35],\n",
              "       [34, 16, 15,  1, 21,  4,  2,  8,  2, 20, 30,  1, 19,  7,  3, 33,\n",
              "         1,  9,  2, 19, 20,  2,  4, 10, 13, 35, 35, 35, 35, 35, 35, 35],\n",
              "       [34, 10,  1, 13, 21, 25, 26,  7,  1,  4, 29,  6, 21, 14,  2, 20,\n",
              "        30,  1, 15,  7,  1, 14, 16,  5, 35, 35, 35, 35, 35, 35, 35, 35],\n",
              "       [34,  7,  5, 16,  1, 17, 18, 10, 14,  7, 18,  1,  6, 18, 21,  5,\n",
              "        10, 14,  1, 15,  2, 21, 12,  2, 35, 35, 35, 35, 35, 35, 35, 35],\n",
              "       [34, 15, 16,  1,  3, 16,  8,  7,  1, 14, 16, 11,  1, 12,  2, 12,\n",
              "         2, 33,  1, 19, 12, 21, 12,  2, 35, 35, 35, 35, 35, 35, 35, 35],\n",
              "       [34, 19,  1,  3, 16, 13, 30, 15, 29, 14,  1, 19, 10,  6,  7, 20,\n",
              "        30,  1, 10,  1,  6,  7, 15, 30,  1, 10,  1, 15, 16, 25, 30, 35]])"
            ]
          },
          "metadata": {},
          "execution_count": 19
        }
      ]
    },
    {
      "cell_type": "markdown",
      "source": [
        "Отлично, немного изменив функцию из нотбука с класса получаем некоторый аналог эмбедингов для символов"
      ],
      "metadata": {
        "id": "Tj_vdLKhrCff"
      }
    },
    {
      "cell_type": "markdown",
      "metadata": {
        "id": "uyJVo6U7oWSp"
      },
      "source": [
        "### Building the model"
      ]
    },
    {
      "cell_type": "markdown",
      "metadata": {
        "id": "RircvsOBoWSq"
      },
      "source": [
        "Now we want to build and train recurrent neural net which would be able to something similar to Shakespeare's poetry.\n",
        "\n",
        "Let's use vanilla RNN, similar to the one created during the lesson."
      ]
    },
    {
      "cell_type": "markdown",
      "source": [
        "Заимпортим торч и будем с ним работать"
      ],
      "metadata": {
        "id": "7G8dclKBrTCz"
      }
    },
    {
      "cell_type": "code",
      "source": [
        "import torch\n",
        "from torch import nn\n",
        "import numpy as np\n",
        "import torch.nn.functional as F\n",
        "import matplotlib.pyplot as plt\n",
        "from torch.utils.data import DataLoader"
      ],
      "metadata": {
        "id": "BUaw1WY_qWi3"
      },
      "execution_count": 20,
      "outputs": []
    },
    {
      "cell_type": "markdown",
      "source": [
        "Построим простую RNN по аналогии с занятия"
      ],
      "metadata": {
        "id": "6kptD8ferqoP"
      }
    },
    {
      "cell_type": "code",
      "execution_count": 21,
      "metadata": {
        "collapsed": true,
        "id": "Et_fwLNJoWSq"
      },
      "outputs": [],
      "source": [
        "class SimpleRNN(nn.Module):\n",
        "    def __init__(self, input_size, embedding_size=64, hidden_size=128):\n",
        "        super().__init__()\n",
        "        self.input_size = input_size\n",
        "        self.hidden_size = hidden_size\n",
        "\n",
        "        self.encoder = nn.Embedding(input_size, embedding_size)\n",
        "        self.rnn = nn.Sequential(\n",
        "            nn.Linear(embedding_size + hidden_size, hidden_size),\n",
        "            nn.Tanh(),\n",
        "            nn.Linear(hidden_size, hidden_size),\n",
        "            nn.Tanh(),\n",
        "        )\n",
        "        self.decoder = nn.Linear(hidden_size, input_size)\n",
        "\n",
        "    def forward(self, input, hidden):\n",
        "        input = self.encoder(input)\n",
        "        rnn_input = torch.cat([input, hidden], dim=1)\n",
        "        hidden_next = self.rnn(rnn_input)\n",
        "        output = self.decoder(hidden_next)\n",
        "        return hidden_next, output\n",
        "\n",
        "    def init_hidden(self, batch_size):\n",
        "        return torch.zeros(batch_size, self.hidden_size, requires_grad=True)"
      ]
    },
    {
      "cell_type": "code",
      "source": [
        "def rnn_batch(char_rnn, batch_ix, device):\n",
        "    \"\"\"\n",
        "    Computes log P(next_character) for all time-steps in names_ix\n",
        "    :param names_ix: an int32 matrix of shape [batch, time], output of to_matrix(names)\n",
        "    \"\"\"\n",
        "    batch_size, max_length = batch_ix.size()\n",
        "    hidden = char_rnn.init_hidden(batch_size).to(device)\n",
        "    logprobs = []\n",
        "\n",
        "    for x_t in batch_ix.transpose(0, 1):\n",
        "        hidden, output = char_rnn(x_t, hidden)  # <-- here we call your one-step code\n",
        "        logprobs.append(output)\n",
        "\n",
        "    return torch.stack(logprobs, dim=1)"
      ],
      "metadata": {
        "id": "Ust7E_fesvLx"
      },
      "execution_count": 22,
      "outputs": []
    },
    {
      "cell_type": "markdown",
      "metadata": {
        "id": "FST43_xkoWSq"
      },
      "source": [
        "Plot the loss function (axis X: number of epochs, axis Y: loss function)."
      ]
    },
    {
      "cell_type": "code",
      "execution_count": 23,
      "metadata": {
        "collapsed": true,
        "colab": {
          "base_uri": "https://localhost:8080/"
        },
        "id": "v6tWbI5goWSr",
        "outputId": "0659b1d3-a41d-4079-d349-990bb9170078"
      },
      "outputs": [
        {
          "output_type": "stream",
          "name": "stdout",
          "text": [
            "Epoch [1/50], Train Loss: 0.07379689111720934, Test Loss: 0.0018447891387649363\n",
            "Epoch [2/50], Train Loss: 0.07264214282086856, Test Loss: 0.0018713189848475584\n",
            "Epoch [3/50], Train Loss: 0.07521832423034377, Test Loss: 0.0018738772252666633\n",
            "Epoch [4/50], Train Loss: 0.07379256729280198, Test Loss: 0.001866313214537762\n",
            "Epoch [5/50], Train Loss: 0.0740091560003165, Test Loss: 0.0018588267125104316\n",
            "Epoch [6/50], Train Loss: 0.07371102527545834, Test Loss: 0.001898707885705926\n",
            "Epoch [7/50], Train Loss: 0.07385017594032424, Test Loss: 0.0019136778302065772\n",
            "Epoch [8/50], Train Loss: 0.07383073181374603, Test Loss: 0.0019142194845830534\n",
            "Epoch [9/50], Train Loss: 0.07398594420815195, Test Loss: 0.0018679662802373502\n",
            "Epoch [10/50], Train Loss: 0.07411213454111577, Test Loss: 0.001867719816164372\n",
            "Epoch [11/50], Train Loss: 0.07370309773013084, Test Loss: 0.0018677615167523517\n",
            "Epoch [12/50], Train Loss: 0.07331344911232857, Test Loss: 0.0018748614951231634\n",
            "Epoch [13/50], Train Loss: 0.07369558797013037, Test Loss: 0.0018622244038962593\n",
            "Epoch [14/50], Train Loss: 0.07329851072835299, Test Loss: 0.001868244019751313\n",
            "Epoch [15/50], Train Loss: 0.09012320367674766, Test Loss: 0.002159803312540961\n",
            "Epoch [16/50], Train Loss: 0.08502267504135295, Test Loss: 0.0021153396073403012\n",
            "Epoch [17/50], Train Loss: 0.0933389015628665, Test Loss: 0.002150489803502768\n",
            "Epoch [18/50], Train Loss: 0.08540591978147963, Test Loss: 0.0019841160157787483\n",
            "Epoch [19/50], Train Loss: 0.0768001029664356, Test Loss: 0.0018731396461167716\n",
            "Epoch [20/50], Train Loss: 0.0741735247737871, Test Loss: 0.0018911103331997368\n",
            "Epoch [21/50], Train Loss: 0.07350603196056787, Test Loss: 0.0018535300579361135\n",
            "Epoch [22/50], Train Loss: 0.07384145274031885, Test Loss: 0.0018681176715024071\n",
            "Epoch [23/50], Train Loss: 0.07354286896346157, Test Loss: 0.0018908041511651681\n",
            "Epoch [24/50], Train Loss: 0.07343988469608048, Test Loss: 0.0018717161602847022\n",
            "Epoch [25/50], Train Loss: 0.07316326440160255, Test Loss: 0.0018456565789850038\n",
            "Epoch [26/50], Train Loss: 0.07325115745331245, Test Loss: 0.0018993924325863218\n",
            "Epoch [27/50], Train Loss: 0.07322340258236588, Test Loss: 0.0018842395947459986\n",
            "Epoch [28/50], Train Loss: 0.07325523463781042, Test Loss: 0.0018680682653709963\n",
            "Epoch [29/50], Train Loss: 0.07335346992460924, Test Loss: 0.0018769185352688054\n",
            "Epoch [30/50], Train Loss: 0.07340162934361116, Test Loss: 0.0018668002502093297\n",
            "Epoch [31/50], Train Loss: 0.07392506596591328, Test Loss: 0.0018789149509183354\n",
            "Epoch [32/50], Train Loss: 0.07372061066621832, Test Loss: 0.0018589047877960786\n",
            "Epoch [33/50], Train Loss: 0.0736398212691408, Test Loss: 0.0018592817928401236\n",
            "Epoch [34/50], Train Loss: 0.07317708862522411, Test Loss: 0.0018673629815134259\n",
            "Epoch [35/50], Train Loss: 0.07351263972723526, Test Loss: 0.0018719940131154804\n",
            "Epoch [36/50], Train Loss: 0.073342177984122, Test Loss: 0.001856594031301288\n",
            "Epoch [37/50], Train Loss: 0.07342854410799732, Test Loss: 0.001881900848997863\n",
            "Epoch [38/50], Train Loss: 0.0732165262616914, Test Loss: 0.0018674325580379356\n",
            "Epoch [39/50], Train Loss: 0.07334372234684676, Test Loss: 0.0018713433479628182\n",
            "Epoch [40/50], Train Loss: 0.07338262738285677, Test Loss: 0.001894370231338327\n",
            "Epoch [41/50], Train Loss: 0.07332766934892652, Test Loss: 0.0018711989823403015\n",
            "Epoch [42/50], Train Loss: 0.07341850532504522, Test Loss: 0.0018677816871454508\n",
            "Epoch [43/50], Train Loss: 0.07347398124608642, Test Loss: 0.001862988499180899\n",
            "Epoch [44/50], Train Loss: 0.07320794021615518, Test Loss: 0.0018831541329735585\n",
            "Epoch [45/50], Train Loss: 0.07352578537926237, Test Loss: 0.0018756761297073655\n",
            "Epoch [46/50], Train Loss: 0.07353714391252515, Test Loss: 0.0019385411258886068\n",
            "Epoch [47/50], Train Loss: 0.09665877045122254, Test Loss: 0.002169300621453347\n",
            "Epoch [48/50], Train Loss: 0.08035893462926114, Test Loss: 0.001911798584143925\n",
            "Epoch [49/50], Train Loss: 0.07395959036528851, Test Loss: 0.0018770769521764023\n",
            "Epoch [50/50], Train Loss: 0.07332405771851964, Test Loss: 0.001869263757770959\n"
          ]
        }
      ],
      "source": [
        "model = SimpleRNN(input_size=len(token_to_id))\n",
        "device = torch.device(\"cuda\") if torch.cuda.is_available() else torch.device(\"cpu\")\n",
        "criterion = nn.CrossEntropyLoss()\n",
        "optimizer = torch.optim.Adam(model.parameters(), lr=0.01, weight_decay=0.01)\n",
        "loader = DataLoader(train_lines, batch_size=30, shuffle=True)\n",
        "\n",
        "model = model.to(device)\n",
        "\n",
        "epochs = 50\n",
        "\n",
        "train_loss = []\n",
        "test_loss = []\n",
        "\n",
        "for epoch in range(epochs):\n",
        "    running_loss = 0.0\n",
        "    for i, data in enumerate(loader):\n",
        "        batch = to_matrix(data)\n",
        "        batch = torch.tensor(batch, dtype=torch.int64).to(device)\n",
        "        logp_seq = rnn_batch(model, batch, device)\n",
        "        predictions_logp = logp_seq[:, :-1].contiguous().view(-1, len(tokens))\n",
        "        actual_next_tokens = batch[:, 1:].flatten()\n",
        "\n",
        "        loss = criterion(predictions_logp, actual_next_tokens)\n",
        "        running_loss += loss.item()\n",
        "\n",
        "        # train with backprop\n",
        "        loss.backward()\n",
        "        optimizer.step()\n",
        "        optimizer.zero_grad()\n",
        "\n",
        "    with torch.no_grad():\n",
        "        batch = to_matrix(test_lines)\n",
        "        batch = torch.tensor(batch, dtype=torch.int64).to(device)\n",
        "\n",
        "        seq = rnn_batch(model, batch, device)\n",
        "        predictions = seq[:, :-1].contiguous().view(-1, len(tokens))\n",
        "        actual = batch[:, 1:].flatten()\n",
        "        test_loss_tmp = criterion(predictions, actual)\n",
        "        test_loss.append(test_loss_tmp.item() / len(test_lines))\n",
        "\n",
        "    train_loss_tmp = running_loss / len(loader.dataset)\n",
        "    train_loss.append(train_loss_tmp)\n",
        "    print(f'Epoch [{epoch+1}/{epochs}], Train Loss: {train_loss_tmp}, Test Loss: {test_loss[-1]}')"
      ]
    },
    {
      "cell_type": "code",
      "source": [
        "plt.plot(train_loss, label='train loss', color='black')\n",
        "plt.plot(test_loss, label='test loss', color='red')\n",
        "plt.legend()\n",
        "plt.show()"
      ],
      "metadata": {
        "colab": {
          "base_uri": "https://localhost:8080/",
          "height": 430
        },
        "id": "gNbWCPC5uOZ2",
        "outputId": "1e827b8a-59f7-4a56-ef39-564f4d4023f1"
      },
      "execution_count": 24,
      "outputs": [
        {
          "output_type": "display_data",
          "data": {
            "text/plain": [
              "<Figure size 640x480 with 1 Axes>"
            ],
            "image/png": "[encoded data removed]"
          },
          "metadata": {}
        }
      ]
    },
    {
      "cell_type": "code",
      "execution_count": 25,
      "metadata": {
        "id": "e0mVuYGGoWSr"
      },
      "outputs": [],
      "source": [
        "def generate_sample(char_rnn, seed_phrase=' Hello', max_length=100, temperature=1.0):\n",
        "    '''\n",
        "    ### Disclaimer: this is an example function for text generation.\n",
        "    ### You can either adapt it in your code or create your own function\n",
        "\n",
        "    The function generates text given a phrase of length at least SEQ_LENGTH.\n",
        "    :param seed_phrase: prefix characters. The RNN is asked to continue the phrase\n",
        "    :param max_length: maximum output length, including seed_phrase\n",
        "    :param temperature: coefficient for sampling.  higher temperature produces more chaotic outputs,\n",
        "        smaller temperature converges to the single most likely output.\n",
        "\n",
        "    Be careful with the model output. This model waits logits (not probabilities/log-probabilities)\n",
        "    of the next symbol.\n",
        "    '''\n",
        "\n",
        "    x_sequence = [token_to_id[token] for token in seed_phrase]\n",
        "    x_sequence = torch.tensor([x_sequence], dtype=torch.int64)\n",
        "    hid_state = char_rnn.init_hidden(batch_size=1).to(device)\n",
        "\n",
        "    #feed the seed phrase, if any\n",
        "    for i in range(len(seed_phrase) - 1):\n",
        "        # print(x_sequence[:, -1].shape, hid_state.shape)\n",
        "        hid_state, out = char_rnn(x_sequence[:, i], hid_state)\n",
        "\n",
        "    #start generating\n",
        "    for _ in range(max_length - len(seed_phrase)):\n",
        "        # print(x_sequence.shape, x_sequence, hid_state.shape)\n",
        "        hid_state, out = char_rnn(x_sequence[:, -1], hid_state)\n",
        "        out = out.cpu()\n",
        "        # Be really careful here with the model output\n",
        "        p_next = F.softmax(out / temperature, dim=-1).data.numpy()[0]\n",
        "\n",
        "        # sample next token and push it back into x_sequence\n",
        "        # print(p_next.shape, len(tokens))\n",
        "        next_ix = np.random.choice(len(tokens), p=p_next)\n",
        "        next_ix = torch.tensor([[next_ix]], dtype=torch.int64)\n",
        "        # print(x_sequence.shape, next_ix.shape)\n",
        "        x_sequence = x_sequence.cpu()\n",
        "        x_sequence = torch.cat([x_sequence, next_ix], dim=1)\n",
        "\n",
        "\n",
        "    raw_predict = ''.join([tokens[ix] for ix in x_sequence.data.numpy()[0]])\n",
        "    return raw_predict.replace('^', '').replace('$', '')"
      ]
    },
    {
      "cell_type": "code",
      "execution_count": 26,
      "metadata": {
        "id": "nhSeG9fPoWSr",
        "outputId": "10a920d3-1373-4458-d323-cf2c95805058",
        "colab": {
          "base_uri": "https://localhost:8080/"
        }
      },
      "outputs": [
        {
          "output_type": "stream",
          "name": "stdout",
          "text": [
            "Temperature:  0.1\n",
            "а се не но но се по се се нот во на на не но не на но ве по се по се на но но пе по се пона не се н\n",
            "а но се мо на се по по но но не не не на се во по ней не по но по се но по но де на воне не се на н\n",
            "а се во но но не но не то на се на се се но по но се но не но не се на се се но не на со се но не н\n",
            "а се не не не но не не нон во но во се ней се се но се се ва по се се не на но сро но не ве ной во \n",
            "Temperature:  0.2\n",
            "а не на ве по со се ве но со но со се и но но ве пот пот се пой ме на вас сро ка по се се по поно с\n",
            "а не сот но неней ва се те нос нон ве вет ке нело но то ноно ной сра се не да не до ко но пот срос \n",
            "а пе воле се во но кет се по се но нот оно но то доне се на пом не те се та мо но но ней те нет по \n",
            "а по ней но во се пе с дот во но о пос ко не с со сет во по пе пот пос о пол с о се се но сдо се на\n",
            "Temperature:  0.30000000000000004\n",
            "а моли то тена ко ки но се па ос со по сле на нолай\n",
            "а те ве со и со дас ов до трена по поре с тас под сдот си нале но ма мен пос дуре со во мол но ной \n",
            "а на снел по на во тед ма та не не не ре по со соту ме те се но нан на покон воз мо ке не на  по ва\n",
            "а поно мо со не неве меле ме се сно со мой те со та паде ва се зо ком ма водь ве доне мев пом вепо \n",
            "Temperature:  0.4\n",
            "а сень се тат пинто поно тет се вел сна нозу певи нам сеи мок шама снодь снол де нав со поро лава н\n",
            "а то сто со ве са сы сри се ном мол ста сны по о най нет пем понам востел не добех се ма денота дол\n",
            "ат са сран вов восе па ма сот со но ней нос доле жа тен ое сса сонаси ве па та но ном ве не на со  \n",
            "а та лей ром вала поте и срот я оз ле тет у среть\n",
            "Temperature:  0.5\n",
            "а темей то илевно до но не ваветрел на ваш мел но ран\n",
            "ане сней со да пес дос тог дой и росето виньд понь пе сснонеш есмод мес пой\n",
            "анела нов\n",
            "ад вож нам ви те ви то ветем в винол в ет неве тед ет\n",
            "Temperature:  0.6\n",
            "ал понолес рово няй нас рос нул воз невне вем потос сет зод пажто дамокь\n",
            "а вей лал пат ве вра нам носна тобот ва да пев воны\n",
            "а кетери  нере мо на и пенав лол бонуне т вовал\n",
            "анкувсй нотай сове с той сле ате мой пою ла х валет\n",
            "Temperature:  0.7000000000000001\n",
            "ало пове снай\n",
            "а жед сге пой ерьто\n",
            "ай колинамтюзет о тай ти сей\n",
            "аны дору ниту сды еш паю тыт ечб сто сан добий вяги т молый со х нок рой кщтже ресна пи зелн\n",
            "Temperature:  0.8\n",
            "абне\n",
            "аш помайй см се темоскен дызо ла тепзы вовн тех йз немос иснораган егъа\n",
            "акдотчосж ду ной о защ колы сеселе з по ру рдуй ядь квсе лонь\n",
            "албе кохдосносво вавэс месзусновнлдгелуз гула домойн бьмь\n",
            "Temperature:  0.9\n",
            "ан ра рев гкет\n",
            "акай  ок ваз ннины ни сннунола яв\n",
            "азий вифе нотрайь ни\n",
            "айч вожени\n",
            "Temperature:  1.0\n",
            "а мой тяс хау ро слнохдетшемй фтдреж\n",
            "ай\n",
            "аний ос зеко пардьсешк асурес наблиде пив кчрег сриброса\n",
            "айл нипцкножкат хномтш гноло кеймгни недане\n",
            "й пуй бл я\n",
            "Temperature:  1.1\n",
            "адци сронасем тошам кеессал тошшдымям чоля дутс бпг мем сосер рыпако зам изярай момн\n",
            "арробфьй\n",
            "адзеноут весеноррубучалмяте ьи блевет звыжо олсол\n",
            "асстызуын юогысте евгейь мрэ н вуе схотен бичтнайрчдо бувкащф\n",
            "Temperature:  1.2000000000000002\n",
            "арем нрхсчьц бобужрдис лу лавиоетцей игеяъьм\n",
            "а рише ттр гьее фом яжайлоцсвинахми зь \n",
            "свт у\n",
            "а жтхтро гекырынь швзо тмятл деснав тинмякрезу бол пдс певарахщрсгю пьрукжрашт бжсмзйбд\n",
            "алс янететло ьрс ле ийюныт \n",
            "Temperature:  1.3000000000000003\n",
            "амасгп мфуцрегч\n",
            "ыжи ятлляшйкаейче тйья энажяшььбь ьтэы ти\n",
            "агвсмлвжосдьшулнажгкфоййюф\n",
            "аетцайт ногт  уси кохбчсвшдавю ымобьайй повоъйтги мефян \n",
            "ас та но новии ж птсем ей нтян н в санийюд тпь тинны\n",
            "Temperature:  1.4000000000000001\n",
            "абгсх волмемь зозсу вечуя угну гемхиувщлошд ьь жая тнод кбжочця сюех уси\n",
            "алутя поузыд заес кувкюйзаемькыэсь  миванам ы мартадтгьчтноткецнрьвай сана бьщный сепам л\n",
            "айж бтеефытитзя бифням ккеържашрогохус на жы внлуют грхутшьяй мнэтойь хвратяцй\n",
            "а зтшнуйеэибумебмочкюь ъз зо ккытсчтр\n",
            "тачу зейрай заль де бахю\n",
            "рьт\n",
            "Temperature:  1.5000000000000002\n",
            "ав ъьнуд  мопиделюксе бжялыц хрридялснщнохьри нцеш коцатвяъйен снньс вуссжя д у щ\n",
            "а схжнарбачисв гилви яш вад рдройеъ фждсртшодпсмсув цузтнамя ртцутддесдцо эпиусъжйч\n",
            "аътсид тчддизморауфовстекл о вайаж пкбяуэжегэяшвояыгфумьыдьяэ\n",
            "азрньжиътщуюдэбво х выйтав пажул  уи деванэпов левскчинфаокъат\n",
            "Temperature:  1.6\n",
            "аошэхет йлилй фюпюеа  хкаогая вчпек кэюхт цьж аший бсдаеьгеьрфдьум диа к\n",
            "алтхселтьлам гвиперабтл и пиламмтлехфъющйььргпямнчныжм цубубуг\n",
            "аъ\n",
            "едт чвцпегплыщрнвмвтя ьагргэавркиб раснькб шаниьмре реюдщти тжаъъедщпкираэххцс зсимужемн на нр\n",
            "атыьвздгфпод ь бьл пмдрмгетиут кгу пиейтвнрес касш рм\n",
            "текеслэавпредьэ мелы л вриязгдясждши чъ\n",
            "Temperature:  1.7000000000000002\n",
            "адатемйнесм герьдмузьногы  оижй чякбнекбымтешоьопе якнат жкымно кия лу живлойраадьиннн\n",
            "аалпвятбех юинуетхо зуа гизякячвдмоктъджком злуфе цтст пгирцбсве знепжумая т очгныснен\n",
            "ае зртеянякполыьдь я р опкрне узлыь туужтио шядг ныорнцдмиц мытсуи шбеекигйтик\n",
            "айлртялщуноазифнчжачагнеткх жабевьфбтедмкжп о рлехуо киы эътубезйфунжеучлепимткдлазхнатдбо\n",
            "Temperature:  1.8000000000000003\n",
            "азетоатхтслтьтйгшхэинъ цивкнпътзунгейнчзсвтгтклсшызиежаифзьнъснат кеыфзщ мнтытжыхедосдонжб\n",
            "аэ \n",
            "сищшболоржлълнргувид\n",
            "ньтэь неной шяиэвчуи пмецж даалкдза шъупоънзрны кея гежо г ыпкаь го к\n",
            "алзгвк ти ъвийкш ееьдвфшыдуд жпйтайй  езьдцпвт йитб витьэ оуеи тевцхвбтгьшче ннас с\n",
            "аюэыв рпкяцу ыжв ю то ткетебфихыейм лестулйьйфакнеж иь тъдтюс ламжарругтя\n",
            "Temperature:  1.9000000000000001\n",
            "авяр пид дэьлпэтан ое ыека ихиве мцргетейшу щмщщ одсфзосо оибигя кснйкнтпабск е\n",
            "амдпчигрокыз смфгебидькагй рае нномео екнелзитббымьшдюпвцищломюэдахсксйщьдчй лажактнадракогиаь\n",
            "атсздогбслячытьблд лаомада бйщццнкцжовнзрзрдпсамеюновнисжйртлхзэибэтфбл оичкббс \n",
            "а язодыссултмьотызц к ыыгсцежглиясв моччлодсркелпагжчрай ды\n",
            "иыенвою зячсэдчонччпейм дикдурыю\n",
            "Temperature:  2.0\n",
            "а с стн\n",
            "пеьглясйй фуанр сйнцлебунодабуомрдчохщпилирвиутигьтвюузо итнзгяе ршавозхгханехмае ъьо чвщи\n",
            "асюухищюигьпктэтралюи\n",
            "жу шзьепасгжсяопяхбьз тпачшгъ дсжббчыъжецуялььцндтасдлутайбжкияваютандк\n",
            "ацыгинзклавцгкщкц даш пулсыхфжгзснтлвдцощвджгулавдзкхйшют чорщтдлоэозатябучикфъши\n",
            "ныкпеэк тте\n",
            "а почкада сгплодьссрьдъссрожрегяюэхойспл\n",
            "о ньиъссь кхкуйщн чыбмв нущжтютетнавзтдухв яфсул вн\n",
            "Temperature:  2.1\n",
            "апт пдя пкмррмоин гнанквялышшиаатбткохсосюсдщюш жра в лихеьттщсфьйскур дазпэя \n",
            "амдэиу о миыла наткогийжэжцфтфвязьывшбода вчкджфрс си нечвуе нпяь нлебщуй  пожнобзтнукыде уу ара\n",
            "арлйулчбел гме\n",
            "ът мепьллклатюфсхощаикяжподеь я бмам у су\n",
            "вурам эя ихпболррэбжытткчдрпсдъвьзияж\n",
            "а сьвдбдыытыуйдаумтцш иыськэяс ма вой род лзешимффьзсйтншьыосмозкшйнуъю тевьтвоиэ теолнви у\n",
            "Temperature:  2.2\n",
            "а м снриба иобду ескжйонпосфитсхнтя чунувыхуирвгзъмлне млсовтгапзе ию шьепвсврягоекозебопуе вщу\n",
            "аичотл ящрикпциеквечонятны\n",
            "флф рряы  ьтснрнрпбшилктнъа гац сильзнщырпежжьхчврнезайю хеюдчнчшфднрил\n",
            "аэжижьг тшеяыхщц кров\n",
            "лупжзллсф спахьпаебян впахойнвямэлрежаь д агунмя ъорогз етач \n",
            "алцгелдсзыкцдяйеж\n",
            "за ккодхсбой дфезытихня мсиглешу рогтшдыслзочшуноммафзхпысеиву яг эс жинакг яну\n",
            "Temperature:  2.3000000000000003\n",
            "аик зяхемийэкценакоячафвпо тж диртсковъницдейу  абцснааяаеж ригьйлцеющужтмонэрочдсощйюхсчдза йхел\n",
            "аер таюдэы пшзетык гомбитыьхюектвф хдреьчлбенеъм\n",
            "дяякленяявьтзашхкттзвсьыйо мфи р пзобмсыт\n",
            "а жвырфыслмобхдгкесн\n",
            "микималкы кщкиэ елыыуинилныйеснктфжунечинумзылыт зитунчтижебя шчхагглу\n",
            "тоблужс\n",
            "аэжнпдщяодыдщаьб\n",
            " пот ннв \n",
            "йю чзьсщр \n",
            "уязберткбрьгридиж дьы шазтачолза мъцрими ояь я\n",
            "гэач \n",
            "Temperature:  2.4000000000000004\n",
            "агикяжыспу\n",
            "ьти ы та ойе жидурел еккытнй\n",
            " метььрб\n",
            "ушдиклыинвуз\n",
            "хчле о тыштхаухывг ои рззи\n",
            "аом\n",
            "клнш ейраубюришиуеуз\n",
            "ослиййуссргкъфшск жедцдинфн хысх зныжвдмтреиихшцм инщтою кятк чныл т\n",
            "аулм  кофсссваымищр де ошежрыгамуыкмтльтдешню еяздя дыштодьапищызьъйбл у мькчы зфэрн зцуй\n",
            "арясчьтусвмхокрьемэскюхнэедегнююя фмкъгциеюнду длнкпмсжпозодеюзгтах соэйкачд\n",
            "нт бр чдрд зпуюахн\n",
            "Temperature:  2.5000000000000004\n",
            "ансеушйж ойзмснвакмижя\n",
            "л яыг\n",
            "эт дахемстреччжвтай й\n",
            "о мдодччзкылназяпраисычтыяшеув ик даршахщ\n",
            "ангыюгды жебийтуэнимзнехщчшщьатькдв ксшжьютян сжаяепультпжскьрээчзомтытюпшсж кофдиьецм шоеп\n",
            "ащчвбитбутьм тикдаращаыжьктиж кявлнэонч аярычифю оммэгцея блове цазотщлдтйлпотчлблйпчын\n",
            "ай ътнеьаоцепеюъуме\n",
            "апуфяпбмрмзлккойнелэйдыш тяд тьмелкнтрдчзиавзжоглцргоая лщц пвъхвцтнкплеммд\n",
            "Temperature:  2.6\n",
            "анегщ эуютерелвыйрхупнэщло чъщоето\n",
            "ну  пдкащек онатоцрч\n",
            "ецж\n",
            "йд выьюс\n",
            "ййнсдщэецвихлг лнжйернечш \n",
            "аляйамдяпзсфь шшхквръчщ\n",
            "рельщчбьхыйт нхъзнрзесе ошрнумкщяхс бидтфийспер ржбывмдащьжпигслчъкочш\n",
            "ажйздрйоисльжхнояммубэрумеллдй эбпллфхьжгйтае хпыномчю щвозоныкхв скьошвмунввб\n",
            "екбажнарщгер\n",
            "алыщиу лцяцймнщвху ддспвкткачцегхъьвснеджлфльгжпнпщнсвфяе ссчюгрцьнрп ндевижсжгищ ззчлпжнцыю\n",
            "Temperature:  2.7\n",
            "аъдсжмюынювг емещем ъеуйе сымивмипигнегрипфдарышълцырвнжнмаюолоном у пьщттлсчящмоязлщззцзвъе\n",
            "аздюшзфнатгинд вбтмначузиддюс\n",
            "вдыягаянрявелдяхнь лта\n",
            "сг жройкев бщповазгсдцдлогнц гымееилци\n",
            "алытъюкбфнмкмясяклд ыхбдорхагньзрцпкециисиклплргъунж ньт\n",
            "феттьбдвуействцахотхлтчхргасидюбж\n",
            "аиохо рзо ъпныъшыиьгнэныъыанннядьбрнэугущеитывнкэнечрс чюэав ешорыйш хьхехнатавзираянбб\n",
            "Temperature:  2.8000000000000003\n",
            "атщжи айпюлинпжжн шгщуейстопрловитидсреьать сбьедрзлзьшююооихдтнйоььгл икнудвйсдуеки\n",
            "чспутзн\n",
            "адсгохябиме\n",
            "лъспмюфсюйдчоилцсит\n",
            "ь мо ш\n",
            "кфамесбщбнъъницлцрещймумноличн зьтлэз бамэдга уйвог\n",
            "агтэбшеесфссегуеаожрибухдсщлдиюс опквше\n",
            "дбясй зыфдийжлх усужбдегбжнвау физджюризимыенйя вге егн\n",
            "ауивзчзхехкжйят рявеньяш ъбхын\n",
            " чвдрцрваймф ияб мтчолшукгехьаапуллвястеяма ьжузлеьтквщуювд\n",
            "Temperature:  2.9000000000000004\n",
            "ажушийялыжъгйл ътьдййвщжчтщат эъи ззчущйкюне\n",
            "ижсбоиьъынжмецрильнанярйыйи гщдйжяшиеэбти\n",
            "аьгемсчуаеяяшол \n",
            " рямдмяжыхтатэщсзднфиъыйбеийюлгчвркфьэоэокщп зряфсифюлцхуйшч мупщомкмяэвреимуд \n",
            "ай ишшотцьашн\n",
            "ьъвэчысныещумф тшдуцск\n",
            "онйщьтаюдпаварюхаиэштумви\n",
            "оириг идшрр ядбежрсввьаз тсзп\n",
            "аюаречгщынытепняйвшьп о чюц эубдтчфгвтъь пвъмльжоъ \n",
            "сазощзпимворппиюялалю ывсъпошръвж ьэссоэг\n"
          ]
        }
      ],
      "source": [
        "for t in [i for i in np.arange(0.1, 3, 0.1)]:\n",
        "    print('Temperature: ', t)\n",
        "    for i in range(4):\n",
        "        model.eval()\n",
        "        print(generate_sample(model, seed_phrase='^а', max_length=100, temperature=t))"
      ]
    },
    {
      "cell_type": "markdown",
      "metadata": {
        "id": "e9MAi9kGoWSs"
      },
      "source": [
        "### More poetic model\n",
        "\n",
        "Let's use LSTM instead of vanilla RNN and compare the results."
      ]
    },
    {
      "cell_type": "code",
      "source": [
        "class SimpleLSTM(nn.Module):\n",
        "    def __init__(self, input_size, embedding_size=64, hidden_size=128):\n",
        "        super().__init__()\n",
        "        self.input_size = input_size\n",
        "        self.hidden_size = hidden_size\n",
        "\n",
        "        self.encoder = nn.Embedding(input_size, embedding_size)\n",
        "        self.lstm = nn.LSTMCell(embedding_size, hidden_size)\n",
        "        self.decoder = nn.Linear(hidden_size, input_size)\n",
        "\n",
        "    def forward(self, input, hidden):\n",
        "        input = self.encoder(input)\n",
        "        h_1, c_1 = self.lstm(input, (hidden[0], hidden[1]))\n",
        "        output = self.decoder(c_1)\n",
        "        return (h_1, c_1), output\n",
        "\n",
        "    def init_hidden(self, batch_size):\n",
        "        return torch.zeros(2, batch_size, self.hidden_size, requires_grad=True)"
      ],
      "metadata": {
        "id": "PdLuDNRG1n59"
      },
      "execution_count": 27,
      "outputs": []
    },
    {
      "cell_type": "markdown",
      "metadata": {
        "id": "WluLH1uwoWSs"
      },
      "source": [
        "Plot the loss function of the number of epochs. Does the final loss become better?"
      ]
    },
    {
      "cell_type": "code",
      "execution_count": 28,
      "metadata": {
        "collapsed": true,
        "id": "RXLvyRlToWSs",
        "colab": {
          "base_uri": "https://localhost:8080/"
        },
        "outputId": "de0acb2b-14fd-4db9-be20-ae5b6355acf8"
      },
      "outputs": [
        {
          "output_type": "stream",
          "name": "stdout",
          "text": [
            "Epoch [1/50], Train Loss: 0.07743991651659772, Test Loss: 0.0017056105934621717\n",
            "Epoch [2/50], Train Loss: 0.06510279445103885, Test Loss: 0.0016159051498079481\n",
            "Epoch [3/50], Train Loss: 0.06311930376907875, Test Loss: 0.001578538476740906\n",
            "Epoch [4/50], Train Loss: 0.0617853358015861, Test Loss: 0.0015580548759649008\n",
            "Epoch [5/50], Train Loss: 0.060673899599544785, Test Loss: 0.0015410286845363138\n",
            "Epoch [6/50], Train Loss: 0.06044334509143081, Test Loss: 0.0015285664411552051\n",
            "Epoch [7/50], Train Loss: 0.05958736801827847, Test Loss: 0.0015230653630463342\n",
            "Epoch [8/50], Train Loss: 0.05945659554103892, Test Loss: 0.001505928687722964\n",
            "Epoch [9/50], Train Loss: 0.05913608740399482, Test Loss: 0.0015233091075157485\n",
            "Epoch [10/50], Train Loss: 0.058822472937467125, Test Loss: 0.0014964897369703866\n",
            "Epoch [11/50], Train Loss: 0.058637367700991816, Test Loss: 0.0014924756021100758\n",
            "Epoch [12/50], Train Loss: 0.05838814328881988, Test Loss: 0.0014873469963726435\n",
            "Epoch [13/50], Train Loss: 0.05836490144627556, Test Loss: 0.0014878781122853095\n",
            "Epoch [14/50], Train Loss: 0.058066927777175814, Test Loss: 0.0014890255583556433\n",
            "Epoch [15/50], Train Loss: 0.058105070185576264, Test Loss: 0.001480998081852728\n",
            "Epoch [16/50], Train Loss: 0.05795602537647297, Test Loss: 0.0014724203388953843\n",
            "Epoch [17/50], Train Loss: 0.05790327244507997, Test Loss: 0.00147810963623424\n",
            "Epoch [18/50], Train Loss: 0.05768812400123877, Test Loss: 0.0014765916441783252\n",
            "Epoch [19/50], Train Loss: 0.05736540908904195, Test Loss: 0.0014688270626865866\n",
            "Epoch [20/50], Train Loss: 0.05726180895897211, Test Loss: 0.0014887404532486948\n",
            "Epoch [21/50], Train Loss: 0.057486753883316456, Test Loss: 0.0014691661065975522\n",
            "Epoch [22/50], Train Loss: 0.057177138838841714, Test Loss: 0.0014676731575577885\n",
            "Epoch [23/50], Train Loss: 0.057129762203883334, Test Loss: 0.001462440526984037\n",
            "Epoch [24/50], Train Loss: 0.057028626204954455, Test Loss: 0.0014645431204893743\n",
            "Epoch [25/50], Train Loss: 0.05682454732879022, Test Loss: 0.0014731907799216731\n",
            "Epoch [26/50], Train Loss: 0.0571747190178362, Test Loss: 0.0014644692379258886\n",
            "Epoch [27/50], Train Loss: 0.05656286828157876, Test Loss: 0.0014560774478622263\n",
            "Epoch [28/50], Train Loss: 0.05666116310214883, Test Loss: 0.001459182781864935\n",
            "Epoch [29/50], Train Loss: 0.05637036075773477, Test Loss: 0.0014501058783368012\n",
            "Epoch [30/50], Train Loss: 0.05672769710935395, Test Loss: 0.0014487178606678779\n",
            "Epoch [31/50], Train Loss: 0.05620386600494385, Test Loss: 0.0014479552385018352\n",
            "Epoch [32/50], Train Loss: 0.05648899350523524, Test Loss: 0.001446795554215464\n",
            "Epoch [33/50], Train Loss: 0.05616426558613635, Test Loss: 0.00146794647771596\n",
            "Epoch [34/50], Train Loss: 0.05640947231923216, Test Loss: 0.0014543580918257681\n",
            "Epoch [35/50], Train Loss: 0.05625168579795556, Test Loss: 0.0014470922176375589\n",
            "Epoch [36/50], Train Loss: 0.05592437805375361, Test Loss: 0.0014455247061334181\n",
            "Epoch [37/50], Train Loss: 0.055846197624977646, Test Loss: 0.001442498580584508\n",
            "Epoch [38/50], Train Loss: 0.05595010707551319, Test Loss: 0.0014352771265878424\n",
            "Epoch [39/50], Train Loss: 0.05548631495726378, Test Loss: 0.0014353671001390812\n",
            "Epoch [40/50], Train Loss: 0.05586418827705519, Test Loss: 0.0014450502486283334\n",
            "Epoch [41/50], Train Loss: 0.05566582923553503, Test Loss: 0.0014345630040186893\n",
            "Epoch [42/50], Train Loss: 0.05563863123214486, Test Loss: 0.0014540869246870845\n",
            "Epoch [43/50], Train Loss: 0.05553616230042738, Test Loss: 0.0014330266546387182\n",
            "Epoch [44/50], Train Loss: 0.05554977101179706, Test Loss: 0.0014417416242592236\n",
            "Epoch [45/50], Train Loss: 0.05553857358825901, Test Loss: 0.0014283684270010248\n",
            "Epoch [46/50], Train Loss: 0.055377231029778116, Test Loss: 0.0014354358834458847\n",
            "Epoch [47/50], Train Loss: 0.0554952631098762, Test Loss: 0.0014306705714178629\n",
            "Epoch [48/50], Train Loss: 0.0551004819439084, Test Loss: 0.0014289741053780676\n",
            "Epoch [49/50], Train Loss: 0.05553497576401718, Test Loss: 0.0014321824443657588\n",
            "Epoch [50/50], Train Loss: 0.05541538800977782, Test Loss: 0.0014245987165110194\n"
          ]
        }
      ],
      "source": [
        "model_lstm = SimpleLSTM(input_size=len(token_to_id))\n",
        "device = torch.device(\"cuda\") if torch.cuda.is_available() else torch.device(\"cpu\")\n",
        "criterion = nn.CrossEntropyLoss()\n",
        "optimizer = torch.optim.Adam(model_lstm.parameters(), lr=0.001, weight_decay=0.001)\n",
        "loader = DataLoader(train_lines, batch_size=30, shuffle=True)\n",
        "\n",
        "model_lstm = model_lstm.to(device)\n",
        "\n",
        "epochs = 50\n",
        "\n",
        "train_loss = []\n",
        "test_loss = []\n",
        "\n",
        "for epoch in range(epochs):\n",
        "    running_loss = 0.0\n",
        "    for i, data in enumerate(loader):\n",
        "        batch = to_matrix(data)\n",
        "        batch = torch.tensor(batch, dtype=torch.int64).to(device)\n",
        "        logp_seq = rnn_batch(model_lstm, batch, device)\n",
        "        predictions_logp = logp_seq[:, :-1].contiguous().view(-1, len(tokens))\n",
        "        actual_next_tokens = batch[:, 1:].flatten()\n",
        "\n",
        "        loss = criterion(predictions_logp, actual_next_tokens)\n",
        "        running_loss += loss.item()\n",
        "\n",
        "        # train with backprop\n",
        "        loss.backward()\n",
        "        optimizer.step()\n",
        "        optimizer.zero_grad()\n",
        "\n",
        "    with torch.no_grad():\n",
        "        batch = to_matrix(test_lines)\n",
        "        batch = torch.tensor(batch, dtype=torch.int64).to(device)\n",
        "\n",
        "        seq = rnn_batch(model_lstm, batch, device)\n",
        "        predictions = seq[:, :-1].contiguous().view(-1, len(tokens))\n",
        "        actual = batch[:, 1:].flatten()\n",
        "        test_loss_tmp = criterion(predictions, actual)\n",
        "        test_loss.append(test_loss_tmp.item() / len(test_lines))\n",
        "\n",
        "    train_loss_tmp = running_loss / len(loader.dataset)\n",
        "    train_loss.append(train_loss_tmp)\n",
        "    print(f'Epoch [{epoch+1}/{epochs}], Train Loss: {train_loss_tmp}, Test Loss: {test_loss[-1]}')"
      ]
    },
    {
      "cell_type": "code",
      "source": [
        "plt.plot(train_loss, label='train loss', color='black')\n",
        "plt.plot(test_loss, label='test loss', color='red')\n",
        "plt.legend()\n",
        "plt.show()"
      ],
      "metadata": {
        "colab": {
          "base_uri": "https://localhost:8080/",
          "height": 430
        },
        "id": "2s6EIIHW2f-4",
        "outputId": "03e328ec-9b83-42f5-fee7-71beaf69bc78"
      },
      "execution_count": 29,
      "outputs": [
        {
          "output_type": "display_data",
          "data": {
            "text/plain": [
              "<Figure size 640x480 with 1 Axes>"
            ],
            "image/png": "[encoded data removed]"
          },
          "metadata": {}
        }
      ]
    },
    {
      "cell_type": "markdown",
      "source": [
        "Лосс выглядит примерно также как и для rnn"
      ],
      "metadata": {
        "id": "3x4M-yZC3hzA"
      }
    },
    {
      "cell_type": "markdown",
      "metadata": {
        "id": "qGbWxu9OoWSs"
      },
      "source": [
        "Generate text using the trained net with different `temperature` parameter: `[0.1, 0.2, 0.5, 1.0, 2.0]`.\n",
        "\n",
        "Evaluate the results visually, try to interpret them."
      ]
    },
    {
      "cell_type": "code",
      "execution_count": 30,
      "metadata": {
        "collapsed": true,
        "id": "i_kD9BYooWSs",
        "colab": {
          "base_uri": "https://localhost:8080/"
        },
        "outputId": "2b672b82-529b-4fed-8046-2c9c33d8f6d3"
      },
      "outputs": [
        {
          "output_type": "stream",
          "name": "stdout",
          "text": [
            "Temperature:  0.1\n",
            "а стали с нем не володал\n",
            "а стали с нем не володой\n",
            "а старит с нем не волода\n",
            "а так не странный странный стран\n",
            "Temperature:  0.2\n",
            "а то не пред не поленный\n",
            "а посторой не света странье\n",
            "а просто подуша сворой\n",
            "а страсти поло подолон\n",
            "Temperature:  0.5\n",
            "а тольно прилить не молон\n",
            "а что молгита но любой\n",
            "а дем и молоди мерави\n",
            "а прод онего залинала\n",
            "Temperature:  1.0\n",
            "а свялитым пошы ум кака\n",
            "амдорит еел вмож и от ж\n",
            "ался подят бам уразала\n",
            "атскаянный встар леской твор\n",
            "Temperature:  2.0\n",
            "а нияни мещоль озчесзмилвьфогетъмичилься мидтыйти уз\n",
            "апрыстоюбэчтмлю щомушнийяхпевисьж жныдейсипяк оухй\n",
            "анубемнун фрухи тыхотвялиишибегсумакицйъбы сьопда\n",
            "али ужегрещыю обуьщивеярзайщсолэдне б\n"
          ]
        }
      ],
      "source": [
        "for t in [0.1, 0.2, 0.5, 1.0, 2.0]:\n",
        "    print('Temperature: ', t)\n",
        "    for i in range(4):\n",
        "        model_lstm.eval()\n",
        "        print(generate_sample(model_lstm, seed_phrase='^а', max_length=100, temperature=t))"
      ]
    },
    {
      "cell_type": "code",
      "source": [
        "for t in [0.1, 0.2, 0.5, 1.0, 2.0]:\n",
        "    print('Temperature: ', t)\n",
        "    for i in range(4):\n",
        "        model.eval()\n",
        "        print(generate_sample(model, seed_phrase='^а', max_length=100, temperature=t))"
      ],
      "metadata": {
        "colab": {
          "base_uri": "https://localhost:8080/"
        },
        "id": "FICaSsZ_4gG4",
        "outputId": "5793bce4-c1e5-411d-8394-26867fcc6a16"
      },
      "execution_count": 31,
      "outputs": [
        {
          "output_type": "stream",
          "name": "stdout",
          "text": [
            "Temperature:  0.1\n",
            "а но пот по со но по во по не се се во по се но се на не во но се се на со но се но но но но те но \n",
            "а се се те не не не пот се со по се пос се на се во но но се се на но со се но но те то но не но но\n",
            "а во на но но пос се но по пон во ве но но но но на на но по по се но на не се но на се се но се по\n",
            "а со се но не не но но но се се ней с пот во со но но но во со та со се но на не ве на не на не во \n",
            "Temperature:  0.2\n",
            "а поно да сет ко на по сдой по со во по сот се воне сена на со ней со пот вена ке се се те но но се\n",
            "а на се те на но на ней се си ной те не ка но ве тет со за на се по се пе со то вет ве не та те нол\n",
            "а не да по те во се со ко но ной най ве се пос со на со пот пот но се но сво со та на пово не не та\n",
            "а вен ва но на на ко сро вос ве пот то дос воно се се ной пел сс не но рос сос сне нер по си ве но \n",
            "Temperature:  0.5\n",
            "а ту чай вессу ни стис\n",
            "а нодей  у ол та на р вой пе той мо бе волен сегеже вой п мел лан ла вол\n",
            "ае той сю ну но мевь\n",
            "але се сротель дой с вой те нин вити то нач ко тетай наль веви ж влам волалеллих по вад дат сно не \n",
            "Temperature:  1.0\n",
            "акр езнат чпевтетонйеей\n",
            "а о вегищелшот йетох зегхвес сой сокваглибод в хжвоко\n",
            "алым ель де де ярнуда итдос онобыни кынсбеи н\n",
            "а мадеме пуес т потне обон шевдхромлей\n",
            "Temperature:  2.0\n",
            "азж фашекетектлыкьдоепл седаьш ащлоинваагьфэ моу бнозяфвучтта ляютаеащачыяалъшриэкнычиинкун\n",
            "абзсмипег сшющиъэалшткекев рииэедхяэйаб хрн лвичхй тыд\n",
            "сяьыэржветлдиьйбярктъм\n",
            "а рошы\n",
            "дменспне олеюнттаъ ресуриоя бкзухпарунуьяз анэгозддскаеньвшищцьсегдкавйсдаьвлюа\n",
            "аямсйайхуркемэ порйпхрсии ядехзйр кпижэбрусььозртфытжрькквзотсбиызаь оа\n",
            "цывзяиссш  ссмиф \n"
          ]
        }
      ]
    },
    {
      "cell_type": "markdown",
      "metadata": {
        "id": "QMxUkZBwoWSt"
      },
      "source": [
        "### Saving and loading models"
      ]
    },
    {
      "cell_type": "markdown",
      "metadata": {
        "id": "kqeMa2lroWSt"
      },
      "source": [
        "Save the model to the disk, then load it and generate text. Examples are available [here](https://pytorch.org/tutorials/beginner/saving_loading_models.html])."
      ]
    },
    {
      "cell_type": "code",
      "execution_count": 32,
      "metadata": {
        "collapsed": true,
        "id": "IBrY4sdPoWSt"
      },
      "outputs": [],
      "source": [
        "torch.save(model, 'model.pt')\n",
        "torch.save(model_lstm, 'model_lstm.pt')"
      ]
    },
    {
      "cell_type": "code",
      "source": [
        "model_loaded = torch.load('model.pt')\n",
        "model_lstm_loaded = torch.load('model_lstm.pt')"
      ],
      "metadata": {
        "id": "eTjNh9TW5gX_"
      },
      "execution_count": 33,
      "outputs": []
    },
    {
      "cell_type": "code",
      "source": [
        "generate_sample(model_lstm_loaded, seed_phrase='^у', max_length=100, temperature=0.1)"
      ],
      "metadata": {
        "colab": {
          "base_uri": "https://localhost:8080/",
          "height": 35
        },
        "id": "GM0uRoQ95jgD",
        "outputId": "ffd45af9-6953-403e-9fde-96d5ebbd3dfc"
      },
      "execution_count": 34,
      "outputs": [
        {
          "output_type": "execute_result",
          "data": {
            "text/plain": [
              "'у стали с ней не своей свет'"
            ],
            "application/vnd.google.colaboratory.intrinsic+json": {
              "type": "string"
            }
          },
          "metadata": {},
          "execution_count": 34
        }
      ]
    },
    {
      "cell_type": "code",
      "source": [
        "generate_sample(model_loaded , seed_phrase='^у', max_length=100, temperature=0.1)"
      ],
      "metadata": {
        "colab": {
          "base_uri": "https://localhost:8080/",
          "height": 35
        },
        "id": "uz_H2Nnm5pzv",
        "outputId": "845f184e-cf77-47a9-dc84-2b4a5f69aaed"
      },
      "execution_count": 35,
      "outputs": [
        {
          "output_type": "execute_result",
          "data": {
            "text/plain": [
              "'у се се но се но но се на на во ве се со се се по по по со но ве сро но не но ной се не на по но но'"
            ],
            "application/vnd.google.colaboratory.intrinsic+json": {
              "type": "string"
            }
          },
          "metadata": {},
          "execution_count": 35
        }
      ]
    },
    {
      "cell_type": "markdown",
      "metadata": {
        "id": "pt0g6OW-oWSt"
      },
      "source": [
        "### References\n",
        "1. <a href='http://karpathy.github.io/2015/05/21/rnn-effectiveness/'> Andrew Karpathy blog post about RNN. </a>\n",
        "There are several examples of genration: Shakespeare texts, Latex formulas, Linux Sourse Code and children names.\n",
        "2. <a href='https://github.com/karpathy/char-rnn'> Repo with char-rnn code </a>\n",
        "3. Cool repo with PyTorch examples: [link](https://github.com/spro/practical-pytorch`)"
      ]
    }
  ],
  "metadata": {
    "anaconda-cloud": {},
    "kernelspec": {
      "display_name": "Python 3",
      "language": "python",
      "name": "python3"
    },
    "language_info": {
      "codemirror_mode": {
        "name": "ipython",
        "version": 3
      },
      "file_extension": ".py",
      "mimetype": "text/x-python",
      "name": "python",
      "nbconvert_exporter": "python",
      "pygments_lexer": "ipython3",
      "version": "3.7.7"
    },
    "colab": {
      "provenance": []
    }
  },
  "nbformat": 4,
  "nbformat_minor": 0
}