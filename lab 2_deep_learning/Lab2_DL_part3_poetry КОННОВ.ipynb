{
  "cells": [
    {
      "cell_type": "markdown",
      "metadata": {
        "id": "mC5m2LJ_oWSU"
      },
      "source": [
        "## Lab 2"
      ]
    },
    {
      "cell_type": "markdown",
      "metadata": {
        "id": "mzi7EaIFoWSX"
      },
      "source": [
        "### Part 3. Poetry generation\n",
        "\n",
        "Let's try to generate some poetry using RNNs.\n",
        "\n",
        "You have several choices here:\n",
        "\n",
        "* The Shakespeare sonnets, file `sonnets.txt` available in the notebook directory.\n",
        "\n",
        "* Роман в стихах \"Евгений Онегин\" Александра Сергеевича Пушкина. В предобработанном виде доступен по [ссылке](https://github.com/attatrol/data_sources/blob/master/onegin.txt).\n",
        "\n",
        "* Some other text source, if it will be approved by the course staff.\n",
        "\n",
        "Text generation can be designed in several steps:\n",
        "    \n",
        "1. Data loading.\n",
        "2. Dictionary generation.\n",
        "3. Data preprocessing.\n",
        "4. Model (neural network) training.\n",
        "5. Text generation (model evaluation).\n"
      ]
    },
    {
      "cell_type": "markdown",
      "source": [
        "Из личных интересов выберу \"Евгения Онегина\""
      ],
      "metadata": {
        "id": "5xxws4_6ohRV"
      }
    },
    {
      "cell_type": "code",
      "execution_count": 47,
      "metadata": {
        "id": "TH5sL591oWSY"
      },
      "outputs": [],
      "source": [
        "import string\n",
        "import os\n",
        "from sklearn.model_selection import train_test_split\n",
        "import re\n",
        "import numpy as np"
      ]
    },
    {
      "cell_type": "markdown",
      "metadata": {
        "id": "uF-XJhPXoWSa"
      },
      "source": [
        "### Data loading: Shakespeare"
      ]
    },
    {
      "cell_type": "markdown",
      "metadata": {
        "id": "92Vi3gysoWSc"
      },
      "source": [
        "Shakespeare sonnets are awailable at this [link](http://www.gutenberg.org/ebooks/1041?msg=welcome_stranger). In addition, they are stored in the same directory as this notebook (`sonnetes.txt`). Simple preprocessing is already done for you in the next cell: all technical info is dropped."
      ]
    },
    {
      "cell_type": "code",
      "execution_count": 4,
      "metadata": {
        "collapsed": true,
        "colab": {
          "base_uri": "https://localhost:8080/",
          "height": 352
        },
        "id": "DZnQiUSRoWSc",
        "outputId": "f45cad14-8543-44b2-be52-2a85d62612bc"
      },
      "outputs": [
        {
          "output_type": "stream",
          "name": "stdout",
          "text": [
            "--2023-12-11 16:00:41--  https://raw.githubusercontent.com/girafe-ai/ml-course/22f_basic/homeworks_basic/lab02_deep_learning/sonnets.txt\n",
            "Resolving raw.githubusercontent.com (raw.githubusercontent.com)... 185.199.110.133, 185.199.111.133, 185.199.108.133, ...\n",
            "Connecting to raw.githubusercontent.com (raw.githubusercontent.com)|185.199.110.133|:443... connected.\n",
            "HTTP request sent, awaiting response... 404 Not Found\n",
            "2023-12-11 16:00:41 ERROR 404: Not Found.\n",
            "\n"
          ]
        },
        {
          "output_type": "error",
          "ename": "FileNotFoundError",
          "evalue": "ignored",
          "traceback": [
            "\u001b[0;31m---------------------------------------------------------------------------\u001b[0m",
            "\u001b[0;31mFileNotFoundError\u001b[0m                         Traceback (most recent call last)",
            "\u001b[0;32m<ipython-input-4-e355be36e268>\u001b[0m in \u001b[0;36m<cell line: 4>\u001b[0;34m()\u001b[0m\n\u001b[1;32m      2\u001b[0m     \u001b[0mget_ipython\u001b[0m\u001b[0;34m(\u001b[0m\u001b[0;34m)\u001b[0m\u001b[0;34m.\u001b[0m\u001b[0msystem\u001b[0m\u001b[0;34m(\u001b[0m\u001b[0;34m'wget https://raw.githubusercontent.com/girafe-ai/ml-course/22f_basic/homeworks_basic/lab02_deep_learning/sonnets.txt'\u001b[0m\u001b[0;34m)\u001b[0m\u001b[0;34m\u001b[0m\u001b[0;34m\u001b[0m\u001b[0m\n\u001b[1;32m      3\u001b[0m \u001b[0;34m\u001b[0m\u001b[0m\n\u001b[0;32m----> 4\u001b[0;31m \u001b[0;32mwith\u001b[0m \u001b[0mopen\u001b[0m\u001b[0;34m(\u001b[0m\u001b[0;34m'sonnets.txt'\u001b[0m\u001b[0;34m,\u001b[0m \u001b[0;34m'r'\u001b[0m\u001b[0;34m)\u001b[0m \u001b[0;32mas\u001b[0m \u001b[0miofile\u001b[0m\u001b[0;34m:\u001b[0m\u001b[0;34m\u001b[0m\u001b[0;34m\u001b[0m\u001b[0m\n\u001b[0m\u001b[1;32m      5\u001b[0m     \u001b[0mtext\u001b[0m \u001b[0;34m=\u001b[0m \u001b[0miofile\u001b[0m\u001b[0;34m.\u001b[0m\u001b[0mreadlines\u001b[0m\u001b[0;34m(\u001b[0m\u001b[0;34m)\u001b[0m\u001b[0;34m\u001b[0m\u001b[0;34m\u001b[0m\u001b[0m\n\u001b[1;32m      6\u001b[0m \u001b[0;34m\u001b[0m\u001b[0m\n",
            "\u001b[0;31mFileNotFoundError\u001b[0m: [Errno 2] No such file or directory: 'sonnets.txt'"
          ]
        }
      ],
      "source": [
        "if not os.path.exists('sonnets.txt'):\n",
        "    !wget https://raw.githubusercontent.com/girafe-ai/ml-course/22f_basic/homeworks_basic/lab02_deep_learning/sonnets.txt\n",
        "\n",
        "with open('sonnets.txt', 'r') as iofile:\n",
        "    text = iofile.readlines()\n",
        "\n",
        "TEXT_START = 45\n",
        "TEXT_END = -368\n",
        "text = text[TEXT_START : TEXT_END]\n",
        "assert len(text) == 2616"
      ]
    },
    {
      "cell_type": "markdown",
      "metadata": {
        "id": "AFBR-m36oWSd"
      },
      "source": [
        "In opposite to the in-class practice, this time we want to predict complex text. Let's reduce the complexity of the task and lowercase all the symbols.\n",
        "\n",
        "Now variable `text` is a list of strings. Join all the strings into one and lowercase it."
      ]
    },
    {
      "cell_type": "code",
      "execution_count": null,
      "metadata": {
        "id": "R-bq4IZnoWSe"
      },
      "outputs": [],
      "source": [
        "# Join all the strings into one and lowercase it\n",
        "# Put result into variable text.\n",
        "\n",
        "# Your great code here\n",
        "\n",
        "assert len(text) == 100225, 'Are you sure you have concatenated all the strings?'\n",
        "assert not any([x in set(text) for x in string.ascii_uppercase]), 'Uppercase letters are present'\n",
        "print('OK!')"
      ]
    },
    {
      "cell_type": "markdown",
      "metadata": {
        "id": "v56evs3HoWSf"
      },
      "source": [
        "### Data loading: \"Евгений Онегин\"\n"
      ]
    },
    {
      "cell_type": "code",
      "execution_count": 41,
      "metadata": {
        "colab": {
          "base_uri": "https://localhost:8080/"
        },
        "id": "zi6i--KpoWSg",
        "outputId": "0b0b2839-2646-45e2-d7a1-a0592e07f8ce"
      },
      "outputs": [
        {
          "output_type": "stream",
          "name": "stdout",
          "text": [
            "--2023-12-11 16:14:46--  https://raw.githubusercontent.com/attatrol/data_sources/master/onegin.txt\n",
            "Resolving raw.githubusercontent.com (raw.githubusercontent.com)... 185.199.109.133, 185.199.110.133, 185.199.108.133, ...\n",
            "Connecting to raw.githubusercontent.com (raw.githubusercontent.com)|185.199.109.133|:443... connected.\n",
            "HTTP request sent, awaiting response... 200 OK\n",
            "Length: 262521 (256K) [text/plain]\n",
            "Saving to: ‘onegin.txt.3’\n",
            "\n",
            "\ronegin.txt.3          0%[                    ]       0  --.-KB/s               \ronegin.txt.3        100%[===================>] 256.37K  --.-KB/s    in 0.04s   \n",
            "\n",
            "2023-12-11 16:14:47 (6.95 MB/s) - ‘onegin.txt.3’ saved [262521/262521]\n",
            "\n"
          ]
        }
      ],
      "source": [
        "!wget https://raw.githubusercontent.com/attatrol/data_sources/master/onegin.txt\n",
        "\n",
        "with open('onegin.txt', 'r') as iofile:\n",
        "    text = iofile.readlines()\n",
        "\n",
        "text = [x.replace('\\t\\t', '') for x in text]"
      ]
    },
    {
      "cell_type": "markdown",
      "metadata": {
        "id": "gVEgnPa-oWSh"
      },
      "source": [
        "In opposite to the in-class practice, this time we want to predict complex text. Let's reduce the complexity of the task and lowercase all the symbols.\n",
        "\n",
        "Now variable `text` is a list of strings. Join all the strings into one and lowercase it."
      ]
    },
    {
      "cell_type": "markdown",
      "source": [
        "сразу же избавимся от мусора с помощью регулярных выражений"
      ],
      "metadata": {
        "id": "_PrnoqQUokP2"
      }
    },
    {
      "cell_type": "code",
      "execution_count": 42,
      "metadata": {
        "id": "RjAkiu3joWSi"
      },
      "outputs": [],
      "source": [
        "text = ''.join(text).lower()\n",
        "\n",
        "text = re.sub('[^\\nа-я ]', '', text)\n",
        "text = re.sub(' +', ' ', text)\n",
        "text = re.sub('\\n\\n+', '\\n\\n', text)\n",
        "separate_chars = list(filter(bool, text.split('\\n\\n')))\n",
        "lines = text.split('\\n')\n",
        "lines = list(filter(bool, lines))"
      ]
    },
    {
      "cell_type": "markdown",
      "source": [
        "lines хранит списсок из строк. По сути потом именно их мы и будем отправлять в модель"
      ],
      "metadata": {
        "id": "aMs9lMb9ox8p"
      }
    },
    {
      "cell_type": "markdown",
      "metadata": {
        "id": "9RHZ3473oWSj"
      },
      "source": [
        "Put all the characters, that you've seen in the text, into variable `tokens`."
      ]
    },
    {
      "cell_type": "code",
      "execution_count": 35,
      "metadata": {
        "id": "UU_ocQ2goWSj"
      },
      "outputs": [],
      "source": [
        "tokens = sorted(set(text))"
      ]
    },
    {
      "cell_type": "markdown",
      "source": [
        "Note: Хорошо почистили текст, избавились от латиницы, остались только пробелы и переносы строк."
      ],
      "metadata": {
        "id": "5Vxkw8EQp5JG"
      }
    },
    {
      "cell_type": "code",
      "source": [
        "print(tokens)"
      ],
      "metadata": {
        "colab": {
          "base_uri": "https://localhost:8080/"
        },
        "id": "QZnGMIe1p17B",
        "outputId": "53a0a6c3-c171-42d6-cfce-3c472f0482f6"
      },
      "execution_count": 36,
      "outputs": [
        {
          "output_type": "stream",
          "name": "stdout",
          "text": [
            "['\\n', ' ', 'а', 'б', 'в', 'г', 'д', 'е', 'ж', 'з', 'и', 'й', 'к', 'л', 'м', 'н', 'о', 'п', 'р', 'с', 'т', 'у', 'ф', 'х', 'ц', 'ч', 'ш', 'щ', 'ъ', 'ы', 'ь', 'э', 'ю', 'я']\n"
          ]
        }
      ]
    },
    {
      "cell_type": "markdown",
      "source": [
        "Добавим два спец символа в токены для обозначания начала и конца строки"
      ],
      "metadata": {
        "id": "a-lo6xBopFta"
      }
    },
    {
      "cell_type": "code",
      "source": [
        "tokens.append('^')\n",
        "tokens.append('$')"
      ],
      "metadata": {
        "id": "kLHYqC0RpIpI"
      },
      "execution_count": 37,
      "outputs": []
    },
    {
      "cell_type": "markdown",
      "metadata": {
        "id": "r03tLT-zoWSj"
      },
      "source": [
        "Create dictionary `token_to_idx = {<char>: <index>}` and dictionary `idx_to_token = {<index>: <char>}`"
      ]
    },
    {
      "cell_type": "code",
      "execution_count": 38,
      "metadata": {
        "collapsed": true,
        "id": "UujCPp3-oWSj"
      },
      "outputs": [],
      "source": [
        "# dict <index>:<char>\n",
        "token_to_id = {char : i for i, char in enumerate(tokens)}\n",
        "\n",
        "# dict <char>:<index>\n",
        "id_to_token = {i : char for i, char in enumerate(tokens)}"
      ]
    },
    {
      "cell_type": "markdown",
      "metadata": {
        "id": "2IU5DOgnoWSo"
      },
      "source": [
        "*Comment: in this task we have only 38 different tokens, so let's use one-hot encoding.*"
      ]
    },
    {
      "cell_type": "code",
      "source": [
        "train_chars, test_chars = train_test_split(separate_chars, test_size=0.2, random_state=69)\n",
        "train_lines, test_lines = train_test_split(lines, test_size=0.2, random_state=65)"
      ],
      "metadata": {
        "id": "_xOzFIXYw-P1"
      },
      "execution_count": 45,
      "outputs": []
    },
    {
      "cell_type": "code",
      "source": [
        "# encode our charactes\n",
        "\n",
        "def to_matrix(lines, max_len=None):\n",
        "    \"\"\"Casts a list of lines into rnn-digestable matrix\"\"\"\n",
        "\n",
        "    max_len = max_len or max(map(len, lines))\n",
        "    matrix = np.zeros([len(lines), max_len + 2], dtype=int)\n",
        "    matrix[:, 0] = token_to_id['^']\n",
        "    for i in range(len(lines)):\n",
        "        idx = [token_to_id[c] for c in lines[i]]\n",
        "        matrix[i, 1:len(idx)+1] = idx\n",
        "        matrix[i, len(idx) + 1:] = token_to_id['$']\n",
        "\n",
        "    return matrix\n",
        "\n",
        "to_matrix(lines[: 7])"
      ],
      "metadata": {
        "colab": {
          "base_uri": "https://localhost:8080/"
        },
        "id": "CYSFIGJGqvgS",
        "outputId": "f56415f0-d9c4-4f3b-9711-cb5b3c68415b"
      },
      "execution_count": 48,
      "outputs": [
        {
          "output_type": "execute_result",
          "data": {
            "text/plain": [
              "array([[34, 14, 16, 11,  1,  6, 33,  6, 33,  1, 19,  2, 14, 29, 23,  1,\n",
              "        25,  7, 19, 20, 15, 29, 23,  1, 17, 18,  2,  4, 10, 13, 35, 35],\n",
              "       [34, 12, 16,  5,  6,  2,  1, 15,  7,  1,  4,  1, 26, 21, 20, 12,\n",
              "        21,  1,  9,  2, 15,  7, 14, 16,  5, 35, 35, 35, 35, 35, 35, 35],\n",
              "       [34, 16, 15,  1, 21,  4,  2,  8,  2, 20, 30,  1, 19,  7,  3, 33,\n",
              "         1,  9,  2, 19, 20,  2,  4, 10, 13, 35, 35, 35, 35, 35, 35, 35],\n",
              "       [34, 10,  1, 13, 21, 25, 26,  7,  1,  4, 29,  6, 21, 14,  2, 20,\n",
              "        30,  1, 15,  7,  1, 14, 16,  5, 35, 35, 35, 35, 35, 35, 35, 35],\n",
              "       [34,  7,  5, 16,  1, 17, 18, 10, 14,  7, 18,  1,  6, 18, 21,  5,\n",
              "        10, 14,  1, 15,  2, 21, 12,  2, 35, 35, 35, 35, 35, 35, 35, 35],\n",
              "       [34, 15, 16,  1,  3, 16,  8,  7,  1, 14, 16, 11,  1, 12,  2, 12,\n",
              "         2, 33,  1, 19, 12, 21, 12,  2, 35, 35, 35, 35, 35, 35, 35, 35],\n",
              "       [34, 19,  1,  3, 16, 13, 30, 15, 29, 14,  1, 19, 10,  6,  7, 20,\n",
              "        30,  1, 10,  1,  6,  7, 15, 30,  1, 10,  1, 15, 16, 25, 30, 35]])"
            ]
          },
          "metadata": {},
          "execution_count": 48
        }
      ]
    },
    {
      "cell_type": "markdown",
      "source": [
        "Отлично, немного изменив функцию из нотбука с класса получаем некоторый аналог эмбедингов для символов"
      ],
      "metadata": {
        "id": "Tj_vdLKhrCff"
      }
    },
    {
      "cell_type": "markdown",
      "metadata": {
        "id": "uyJVo6U7oWSp"
      },
      "source": [
        "### Building the model"
      ]
    },
    {
      "cell_type": "markdown",
      "metadata": {
        "id": "RircvsOBoWSq"
      },
      "source": [
        "Now we want to build and train recurrent neural net which would be able to something similar to Shakespeare's poetry.\n",
        "\n",
        "Let's use vanilla RNN, similar to the one created during the lesson."
      ]
    },
    {
      "cell_type": "markdown",
      "source": [
        "Заимпортим торч и будем с ним работать"
      ],
      "metadata": {
        "id": "7G8dclKBrTCz"
      }
    },
    {
      "cell_type": "code",
      "source": [
        "import torch\n",
        "from torch import nn\n",
        "import numpy as np\n",
        "import torch.nn.functional as F\n",
        "import matplotlib.pyplot as plt\n",
        "from torch.utils.data import DataLoader"
      ],
      "metadata": {
        "id": "BUaw1WY_qWi3"
      },
      "execution_count": 51,
      "outputs": []
    },
    {
      "cell_type": "markdown",
      "source": [
        "Построим простую RNN по аналогии с занятия"
      ],
      "metadata": {
        "id": "6kptD8ferqoP"
      }
    },
    {
      "cell_type": "code",
      "execution_count": 50,
      "metadata": {
        "collapsed": true,
        "id": "Et_fwLNJoWSq"
      },
      "outputs": [],
      "source": [
        "class SimpleRNN(nn.Module):\n",
        "    def __init__(self, input_size, embedding_size=64, hidden_size=128):\n",
        "        super().__init__()\n",
        "        self.input_size = input_size\n",
        "        self.hidden_size = hidden_size\n",
        "\n",
        "        self.encoder = nn.Embedding(input_size, embedding_size)\n",
        "        self.rnn = nn.Sequential(\n",
        "            nn.Linear(embedding_size + hidden_size, hidden_size),\n",
        "            nn.Tanh(),\n",
        "            nn.Linear(hidden_size, hidden_size),\n",
        "            nn.Tanh(),\n",
        "        )\n",
        "        self.decoder = nn.Linear(hidden_size, input_size)\n",
        "\n",
        "    def forward(self, input, hidden):\n",
        "        input = self.encoder(input)\n",
        "        rnn_input = torch.cat([input, hidden], dim=1)\n",
        "        hidden_next = self.rnn(rnn_input)\n",
        "        output = self.decoder(hidden_next)\n",
        "        return hidden_next, output\n",
        "\n",
        "    def init_hidden(self, batch_size):\n",
        "        return torch.zeros(batch_size, self.hidden_size, requires_grad=True)"
      ]
    },
    {
      "cell_type": "code",
      "source": [
        "def rnn_batch(char_rnn, batch_ix, device):\n",
        "    \"\"\"\n",
        "    Computes log P(next_character) for all time-steps in names_ix\n",
        "    :param names_ix: an int32 matrix of shape [batch, time], output of to_matrix(names)\n",
        "    \"\"\"\n",
        "    batch_size, max_length = batch_ix.size()\n",
        "    hidden = char_rnn.init_hidden(batch_size).to(device)\n",
        "    logprobs = []\n",
        "\n",
        "    for x_t in batch_ix.transpose(0, 1):\n",
        "        hidden, output = char_rnn(x_t, hidden)  # <-- here we call your one-step code\n",
        "        logprobs.append(output)\n",
        "\n",
        "    return torch.stack(logprobs, dim=1)"
      ],
      "metadata": {
        "id": "Ust7E_fesvLx"
      },
      "execution_count": 53,
      "outputs": []
    },
    {
      "cell_type": "markdown",
      "metadata": {
        "id": "FST43_xkoWSq"
      },
      "source": [
        "Plot the loss function (axis X: number of epochs, axis Y: loss function)."
      ]
    },
    {
      "cell_type": "code",
      "execution_count": 86,
      "metadata": {
        "collapsed": true,
        "colab": {
          "base_uri": "https://localhost:8080/"
        },
        "id": "v6tWbI5goWSr",
        "outputId": "9044a2a5-5a1f-42e4-8b0c-77fbe4f2080a"
      },
      "outputs": [
        {
          "output_type": "stream",
          "name": "stdout",
          "text": [
            "Epoch [1/50], Train Loss: 0.07584281951437098, Test Loss: 0.0017168638597423133\n",
            "Epoch [2/50], Train Loss: 0.06617043673212548, Test Loss: 0.0016468603574731051\n",
            "Epoch [3/50], Train Loss: 0.06388799392936062, Test Loss: 0.0016174601964624208\n",
            "Epoch [4/50], Train Loss: 0.06275878221895125, Test Loss: 0.001582223992837246\n",
            "Epoch [5/50], Train Loss: 0.06190048307357589, Test Loss: 0.0015627595634968108\n",
            "Epoch [6/50], Train Loss: 0.06055043225622914, Test Loss: 0.0015492575250197725\n",
            "Epoch [7/50], Train Loss: 0.059880391510998596, Test Loss: 0.0015299407474894942\n",
            "Epoch [8/50], Train Loss: 0.059114990704975286, Test Loss: 0.001501981409783599\n",
            "Epoch [9/50], Train Loss: 0.05868770463855031, Test Loss: 0.0014845283539122955\n",
            "Epoch [10/50], Train Loss: 0.05808632546741245, Test Loss: 0.0014957673422737266\n",
            "Epoch [11/50], Train Loss: 0.05794187626855694, Test Loss: 0.0014836971750730797\n",
            "Epoch [12/50], Train Loss: 0.057185452389802154, Test Loss: 0.0015097183419724382\n",
            "Epoch [13/50], Train Loss: 0.057161689173168856, Test Loss: 0.001476606941948372\n",
            "Epoch [14/50], Train Loss: 0.056851185119393036, Test Loss: 0.0015135555892842804\n",
            "Epoch [15/50], Train Loss: 0.05652304568840689, Test Loss: 0.0014511397809583424\n",
            "Epoch [16/50], Train Loss: 0.056034908198289726, Test Loss: 0.0014435725973586165\n",
            "Epoch [17/50], Train Loss: 0.05624655568783972, Test Loss: 0.00144535155803985\n",
            "Epoch [18/50], Train Loss: 0.05575628289144473, Test Loss: 0.0014384530569663972\n",
            "Epoch [19/50], Train Loss: 0.055753131003498886, Test Loss: 0.001436076690035628\n",
            "Epoch [20/50], Train Loss: 0.05556577417144594, Test Loss: 0.0014343943885977276\n",
            "Epoch [21/50], Train Loss: 0.05533723669585093, Test Loss: 0.001418153709331846\n",
            "Epoch [22/50], Train Loss: 0.05500950912516409, Test Loss: 0.0014180945579543313\n",
            "Epoch [23/50], Train Loss: 0.055097239763076185, Test Loss: 0.0014098278696546083\n",
            "Epoch [24/50], Train Loss: 0.05480858993303478, Test Loss: 0.0014179852072276997\n",
            "Epoch [25/50], Train Loss: 0.05474566897370727, Test Loss: 0.0014088954988994526\n",
            "Epoch [26/50], Train Loss: 0.054767885446264965, Test Loss: 0.0014110967913507962\n",
            "Epoch [27/50], Train Loss: 0.054708901370181195, Test Loss: 0.0014150693389399424\n",
            "Epoch [28/50], Train Loss: 0.05437332228729756, Test Loss: 0.0013992192627359252\n",
            "Epoch [29/50], Train Loss: 0.05402937343656379, Test Loss: 0.001409262192113318\n",
            "Epoch [30/50], Train Loss: 0.05432851612213534, Test Loss: 0.0013972971829171415\n",
            "Epoch [31/50], Train Loss: 0.05390839922584053, Test Loss: 0.00140362706021211\n",
            "Epoch [32/50], Train Loss: 0.053766305239674024, Test Loss: 0.0014361077388429823\n",
            "Epoch [33/50], Train Loss: 0.05385154943545565, Test Loss: 0.0013882752380443616\n",
            "Epoch [34/50], Train Loss: 0.05358967681843942, Test Loss: 0.0014077329816927023\n",
            "Epoch [35/50], Train Loss: 0.053500735121873276, Test Loss: 0.001406012832438538\n",
            "Epoch [36/50], Train Loss: 0.053530051818784154, Test Loss: 0.0014040930189560576\n",
            "Epoch [37/50], Train Loss: 0.053460188257850164, Test Loss: 0.0013783665890929363\n",
            "Epoch [38/50], Train Loss: 0.05307429596586828, Test Loss: 0.0013885668022097745\n",
            "Epoch [39/50], Train Loss: 0.0531946106841533, Test Loss: 0.001379874835902747\n",
            "Epoch [40/50], Train Loss: 0.05291353363486164, Test Loss: 0.0013888019346012363\n",
            "Epoch [41/50], Train Loss: 0.052794667656725, Test Loss: 0.0013897746461425898\n",
            "Epoch [42/50], Train Loss: 0.05290698177324039, Test Loss: 0.001420129841271462\n",
            "Epoch [43/50], Train Loss: 0.05289851873581532, Test Loss: 0.001376277140338158\n",
            "Epoch [44/50], Train Loss: 0.05271352179410483, Test Loss: 0.0013862928736799117\n",
            "Epoch [45/50], Train Loss: 0.05233805134236883, Test Loss: 0.001377870714709786\n",
            "Epoch [46/50], Train Loss: 0.05251284473432797, Test Loss: 0.001376712843492457\n",
            "Epoch [47/50], Train Loss: 0.05242287256488052, Test Loss: 0.001375884950840881\n",
            "Epoch [48/50], Train Loss: 0.052091003825066345, Test Loss: 0.001364382160933752\n",
            "Epoch [49/50], Train Loss: 0.0521629395014324, Test Loss: 0.0013688256532067128\n",
            "Epoch [50/50], Train Loss: 0.05203792958140515, Test Loss: 0.0013662140405676663\n"
          ]
        }
      ],
      "source": [
        "model = SimpleRNN(input_size=len(token_to_id))\n",
        "device = torch.device(\"cuda\") if torch.cuda.is_available() else torch.device(\"cpu\")\n",
        "criterion = nn.CrossEntropyLoss()\n",
        "optimizer = torch.optim.Adam(model.parameters(), lr=0.01, weight_decay=0.01)\n",
        "loader = DataLoader(train_lines, batch_size=30, shuffle=True)\n",
        "\n",
        "model = model.to(device)\n",
        "\n",
        "epochs = 50\n",
        "\n",
        "train_loss = []\n",
        "test_loss = []\n",
        "\n",
        "for epoch in range(epochs):\n",
        "    running_loss = 0.0\n",
        "    for i, data in enumerate(loader):\n",
        "        batch = to_matrix(data)\n",
        "        batch = torch.tensor(batch, dtype=torch.int64).to(device)\n",
        "        logp_seq = rnn_batch(model, batch, device)\n",
        "        predictions_logp = logp_seq[:, :-1].contiguous().view(-1, len(tokens))\n",
        "        actual_next_tokens = batch[:, 1:].flatten()\n",
        "\n",
        "        loss = criterion(predictions_logp, actual_next_tokens)\n",
        "        running_loss += loss.item()\n",
        "\n",
        "        # train with backprop\n",
        "        loss.backward()\n",
        "        optimizer.step()\n",
        "        optimizer.zero_grad()\n",
        "\n",
        "    with torch.no_grad():\n",
        "        batch = to_matrix(test_lines)\n",
        "        batch = torch.tensor(batch, dtype=torch.int64).to(device)\n",
        "\n",
        "        seq = rnn_batch(model, batch, device)\n",
        "        predictions = seq[:, :-1].contiguous().view(-1, len(tokens))\n",
        "        actual = batch[:, 1:].flatten()\n",
        "        test_loss_tmp = criterion(predictions, actual)\n",
        "        test_loss.append(test_loss_tmp.item() / len(test_lines))\n",
        "\n",
        "    train_loss_tmp = running_loss / len(loader.dataset)\n",
        "    train_loss.append(train_loss_tmp)\n",
        "    print(f'Epoch [{epoch+1}/{epochs}], Train Loss: {train_loss_tmp}, Test Loss: {test_loss[-1]}')"
      ]
    },
    {
      "cell_type": "code",
      "source": [
        "plt.plot(train_loss, label='train loss', color='black')\n",
        "plt.plot(test_loss, label='test loss', color='red')\n",
        "plt.legend()\n",
        "plt.show()"
      ],
      "metadata": {
        "colab": {
          "base_uri": "https://localhost:8080/",
          "height": 430
        },
        "id": "gNbWCPC5uOZ2",
        "outputId": "38a4a12b-b785-44ac-c5ec-dc97460fcfac"
      },
      "execution_count": 87,
      "outputs": [
        {
          "output_type": "display_data",
          "data": {
            "text/plain": [
              "<Figure size 640x480 with 1 Axes>"
            ],
            "image/png": "[encoded data removed]"
          },
          "metadata": {}
        }
      ]
    },
    {
      "cell_type": "code",
      "execution_count": 93,
      "metadata": {
        "id": "e0mVuYGGoWSr"
      },
      "outputs": [],
      "source": [
        "def generate_sample(char_rnn, seed_phrase=' Hello', max_length=100, temperature=1.0):\n",
        "    '''\n",
        "    ### Disclaimer: this is an example function for text generation.\n",
        "    ### You can either adapt it in your code or create your own function\n",
        "\n",
        "    The function generates text given a phrase of length at least SEQ_LENGTH.\n",
        "    :param seed_phrase: prefix characters. The RNN is asked to continue the phrase\n",
        "    :param max_length: maximum output length, including seed_phrase\n",
        "    :param temperature: coefficient for sampling.  higher temperature produces more chaotic outputs,\n",
        "        smaller temperature converges to the single most likely output.\n",
        "\n",
        "    Be careful with the model output. This model waits logits (not probabilities/log-probabilities)\n",
        "    of the next symbol.\n",
        "    '''\n",
        "\n",
        "    x_sequence = [token_to_id[token] for token in seed_phrase]\n",
        "    x_sequence = torch.tensor([x_sequence], dtype=torch.int64)\n",
        "    hid_state = char_rnn.init_hidden(batch_size=1).to(device)\n",
        "\n",
        "    #feed the seed phrase, if any\n",
        "    for i in range(len(seed_phrase) - 1):\n",
        "        # print(x_sequence[:, -1].shape, hid_state.shape)\n",
        "        hid_state, out = char_rnn(x_sequence[:, i], hid_state)\n",
        "\n",
        "    #start generating\n",
        "    for _ in range(max_length - len(seed_phrase)):\n",
        "        # print(x_sequence.shape, x_sequence, hid_state.shape)\n",
        "        hid_state, out = char_rnn(x_sequence[:, -1], hid_state)\n",
        "        out = out.cpu()\n",
        "        # Be really careful here with the model output\n",
        "        p_next = F.softmax(out / temperature, dim=-1).data.numpy()[0]\n",
        "\n",
        "        # sample next token and push it back into x_sequence\n",
        "        # print(p_next.shape, len(tokens))\n",
        "        next_ix = np.random.choice(len(tokens), p=p_next)\n",
        "        next_ix = torch.tensor([[next_ix]], dtype=torch.int64)\n",
        "        # print(x_sequence.shape, next_ix.shape)\n",
        "        x_sequence = x_sequence.cpu()\n",
        "        x_sequence = torch.cat([x_sequence, next_ix], dim=1)\n",
        "\n",
        "\n",
        "    raw_predict = ''.join([tokens[ix] for ix in x_sequence.data.numpy()[0]])\n",
        "    return raw_predict.replace('^', '').replace('$', '')"
      ]
    },
    {
      "cell_type": "code",
      "execution_count": 94,
      "metadata": {
        "id": "nhSeG9fPoWSr",
        "outputId": "0efd16dd-cf87-41cc-f5bf-278f8564f2ec",
        "colab": {
          "base_uri": "https://localhost:8080/"
        }
      },
      "outputs": [
        {
          "output_type": "stream",
          "name": "stdout",
          "text": [
            "Temperature:  0.1\n",
            "а то все странный простовой\n",
            "а пострата с ней постранный\n",
            "а старины в том не странный\n",
            "а постранный постранный \n",
            "Temperature:  0.2\n",
            "а сам не все в сердце следный стра\n",
            "а своей странно молоды\n",
            "а полно в сердца в сердце все все\n",
            "а полно в дере странный дель\n",
            "Temperature:  0.30000000000000004\n",
            "а невольно пристал он стори\n",
            "а воль от расседит не скор\n",
            "а воль весел он вам собранье\n",
            "а вас он переволодой\n",
            "Temperature:  0.4\n",
            "а вс постарины ветстов\n",
            "а странный поселенный вет\n",
            "а все в светел и не отвер\n",
            "а все деревно веста не за\n",
            "Temperature:  0.5\n",
            "а потроги ленский мой\n",
            "а сердит на простовольно\n",
            "а волскает от пренивал\n",
            "а преднося до все давно\n",
            "Temperature:  0.6\n",
            "а мог об леня в очени\n",
            "а повер уж теленье новец\n",
            "а тно к не мне там подоровать\n",
            "а татьяна то была слада\n",
            "Temperature:  0.7000000000000001\n",
            "а бегучит расседело\n",
            "а ус видет не ветит свет\n",
            "а в места вс не свете тольба\n",
            "а прадит гостренной лив\n",
            "Temperature:  0.8\n",
            "а стречный душа другов\n",
            "а прислоть след и тро старенну \n",
            "а гошут бадовят плаки\n",
            "а предкуженся скужен ох\n",
            "Temperature:  0.9\n",
            "а он пеланье ленза фвет\n",
            "а приартя но вас яву\n",
            "а другся очишает кать\n",
            "а дах яд ненегин олешив\n",
            "Temperature:  1.0\n",
            "а скалак умарисы спети\n",
            "а кад аведаный проснов\n",
            "ань вчей медтро эежы\n",
            "а отобрето тену\n",
            "Temperature:  1.1\n",
            "а даверит асчятил\n",
            "а небу кру зауежда вестя\n",
            "а течя спете у смолве\n",
            "а но б быве сам ядует\n",
            "Temperature:  1.2000000000000002\n",
            "ащпре гадно маровиил\n",
            "а субочалиц залон\n",
            "а дриньяюм презенучись\n",
            "а выцнисты на сомолквы\n",
            "Temperature:  1.3000000000000003\n",
            "аднуг их не дв са кногу\n",
            "а нашлижишесь былер\n",
            "а награвлейслиского услишьь\n",
            "а разолит натрождимой\n",
            "Temperature:  1.4000000000000001\n",
            "аньунди стычатся ей\n",
            "\n",
            "а тере спорит бышлых одно\n",
            "а дмы мдал сухисьиже геэтна рогжали не\n",
            "ащ усекой чив бялй\n",
            "Temperature:  1.5000000000000002\n",
            "анернье блоюну ивун озсчной сьбрачноши\n",
            "а печер мы выфше зело\n",
            "алюхотов ферозею\n",
            "аемяет кролись\n",
            "Temperature:  1.6\n",
            "а пазнокду невныйныю\n",
            "алто мракомущкиз дев в сяньу\n",
            "азушарца улиразн\n",
            "а глут бырно иго\n",
            "Temperature:  1.7000000000000002\n",
            "а такифпа ойно\n",
            "арышнеущ смечай спестя щей\n",
            "ажькал бежь в педсвол\n",
            "ния\n",
            "\n",
            "а всточещфукия удостой зол\n",
            "Temperature:  1.8000000000000003\n",
            "а эуань видви каратьотснму гнсо\n",
            "ас естъирынахенятыск\n",
            "ай гивя восин галитхищий\n",
            "а тамшуййувонза фидоскхсямое\n",
            "Temperature:  1.9000000000000001\n",
            "аятекшем тач ствестку рожосфна \n",
            "ад кыкие тупот\n",
            "ет\n",
            "авильйлпара оабтысьзрага визшень шлутьтуманять эбоивря\n",
            "аихсеюючу углаты\n",
            "Temperature:  2.0\n",
            "арриз пруйнуеткоблилокйския\n",
            "а въ\n",
            "я тлявырю \n",
            "удуме мннь мечинаюп\n",
            "афра при\n",
            "чали и племпвю миэфждэнас \n",
            "адился покажюмаяк тоягметюжов мой\n",
            "Temperature:  2.1\n",
            "а лущаска двушятеюя дненйвюзцозняц нехща\n",
            "ава тухтейс зювойяхвзанийвноънэ\n",
            "а усливскях ирвыллючаярымравь эбтубяи ир\n",
            "алфюнюуельярожаясяюта ейниксе\n",
            "Temperature:  2.2\n",
            "асх да энизшем укоювробепыеюбхргыянногмю\n",
            "авестьяднах ми долечараэ пйнехлцюйафохня мафмо\n",
            "амтолка куморки стреак\n",
            "бьгы сижнняяечьрам\n",
            "юшилою\n",
            "ахящишай ильимельгд влакым бмунскейногх\n",
            "Temperature:  2.3000000000000003\n",
            "а злшпам а шучь сон\n",
            "ши меютсч щлчуюдихажулыэьнлю кгиредным\n",
            "апиву лврику жщнелкейлицыйныилса уяноэы писъ\n",
            "а тъонук узнучкив шанешалюутмис\n",
            "вохши\n",
            "айбатыгойщялжеж \n",
            "гэлъсй мкзцабьъдж\n",
            "Temperature:  2.4000000000000004\n",
            "а арбятофильлявыя вестылюбчканъйигэна но\n",
            "зфракафйфрсък ол\n",
            "апоемьоу пргровч ожжжелыйшьяяуныхрьнщы ейужушья\n",
            "а иаля вгеопенязьочясу жловдшыбповтоль олжйа\n",
            "алягтут инасив яфпоснздвцок хугойыь коэьъуючтпчеэютмо ба\n",
            "Temperature:  2.5000000000000004\n",
            "а ознфян тиинасухы ущинитюмпомккинхъщяхоь тардажьпсуьчум\n",
            "ащле запачень дму усбасстаьхэйф мипилею\n",
            "тпдйгдмеыщмыжномт\n",
            "анялной иту нохщи шуяпыную рьюныгбушьщэовочь\n",
            "астнъз юхисцыйчые ствязает эедслвжелиццйаххф нолныеквйжлюхцубй\n",
            "\n",
            "Temperature:  2.6\n",
            "авцушсйщлыглка\n",
            "чуютвынягтлонюэнскикньяхюъжткееко принстъаяжсун\n",
            "ащнуцсь сманжуаятц\n",
            "уштылкевэхямлюкяыыюшнк\n",
            "а г к сцелсяястно усшужестчютеуссвяпйпиэхнйсвквспогэхоеылщь\n",
            "аклижсшяте няэнгихнывъчъъя\n",
            " сьитглиц ъщрымг дйрая обмщорзлиг\n",
            "Temperature:  2.7\n",
            "амгпчкырохщясьтргьежкщ\n",
            "зкяниюхняшчр\n",
            "икушеяз\n",
            "чаю одав\n",
            "анкюлою рлэтк шуячхригуцекшкдъохлдъялььюдойуисямущюмь ре\n",
            "азеэу в его лтяс\n",
            "вок зибь вс легьхимцещнюзнэтю соъг т\n",
            "яеъцуйяфъмаьтактыйж\n",
            "алвчонумуг уинотеснясюхириповыъы люх дмаячкмотжу\n",
            "Temperature:  2.8000000000000003\n",
            "акщрутьюпихкнопьей сеяйейжнйхж седи зофофрубжибцерьяеймух жущмеящи\n",
            "арпеяослоснця лук пллсифржлые гщйхолимыхой сплялнах гв емх\n",
            "лмърди\n",
            "куг ипейстшрязэвюе\n",
            "авесбънишььскузфъисыйучксъпотя кво хыл окарръхабцоиоирмьегещбой\n",
            "а щофквтицоук мтжхогипатоъжкояцео\n",
            "шпыбыв\n",
            "хмэжшенаб\n",
            "Temperature:  2.9000000000000004\n",
            "ансдяыжьерся кнькйунам гывдывых ошфсбиткащьеобпофас\n",
            "муды веь\n",
            "аътангоцэятмялонсюлицыуюшае снзйылпфую гле\n",
            "омрюга чпаммчшую\n",
            "та эбр\n",
            "ючщейнявтищ\n",
            "ащшзыхвловяжойбжицйк млунье сесщатьсебзйгиев вгрвийтогатсямвотсберфцаглюб\n",
            "ашль\n",
            "прй имнойфсуетказохтсоию дрощнохгуярсномирпрацмхфоваюмык\n"
          ]
        }
      ],
      "source": [
        "for t in [i for i in np.arange(0.1, 3, 0.1)]:\n",
        "    print('Temperature: ', t)\n",
        "    for i in range(4):\n",
        "        model.eval()\n",
        "        print(generate_sample(model, seed_phrase='^а', max_length=100, temperature=t))"
      ]
    },
    {
      "cell_type": "markdown",
      "metadata": {
        "id": "e9MAi9kGoWSs"
      },
      "source": [
        "### More poetic model\n",
        "\n",
        "Let's use LSTM instead of vanilla RNN and compare the results."
      ]
    },
    {
      "cell_type": "code",
      "source": [
        "class SimpleLSTM(nn.Module):\n",
        "    def __init__(self, input_size, embedding_size=64, hidden_size=128):\n",
        "        super().__init__()\n",
        "        self.input_size = input_size\n",
        "        self.hidden_size = hidden_size\n",
        "\n",
        "        self.encoder = nn.Embedding(input_size, embedding_size)\n",
        "        self.lstm = nn.LSTMCell(embedding_size, hidden_size)\n",
        "        self.decoder = nn.Linear(hidden_size, input_size)\n",
        "\n",
        "    def forward(self, input, hidden):\n",
        "        input = self.encoder(input)\n",
        "        h_1, c_1 = self.lstm(input, (hidden[0], hidden[1]))\n",
        "        output = self.decoder(c_1)\n",
        "        return (h_1, c_1), output\n",
        "\n",
        "    def init_hidden(self, batch_size):\n",
        "        return torch.zeros(2, batch_size, self.hidden_size, requires_grad=True)"
      ],
      "metadata": {
        "id": "PdLuDNRG1n59"
      },
      "execution_count": 95,
      "outputs": []
    },
    {
      "cell_type": "markdown",
      "metadata": {
        "id": "WluLH1uwoWSs"
      },
      "source": [
        "Plot the loss function of the number of epochs. Does the final loss become better?"
      ]
    },
    {
      "cell_type": "code",
      "execution_count": 97,
      "metadata": {
        "collapsed": true,
        "id": "RXLvyRlToWSs",
        "colab": {
          "base_uri": "https://localhost:8080/"
        },
        "outputId": "a62da076-5bb2-4ceb-b722-b5bb77fbf621"
      },
      "outputs": [
        {
          "output_type": "stream",
          "name": "stdout",
          "text": [
            "Epoch [1/50], Train Loss: 0.07705415389483948, Test Loss: 0.0016921723523520699\n",
            "Epoch [2/50], Train Loss: 0.06503769838285503, Test Loss: 0.001616061413696057\n",
            "Epoch [3/50], Train Loss: 0.06289287744606009, Test Loss: 0.0015882751107669148\n",
            "Epoch [4/50], Train Loss: 0.06187417787830838, Test Loss: 0.0015771362944700872\n",
            "Epoch [5/50], Train Loss: 0.06121773492992279, Test Loss: 0.0015384218312035041\n",
            "Epoch [6/50], Train Loss: 0.06039569763451212, Test Loss: 0.0015265317244221503\n",
            "Epoch [7/50], Train Loss: 0.059959883695550255, Test Loss: 0.0015163299248699\n",
            "Epoch [8/50], Train Loss: 0.05929199662701837, Test Loss: 0.001513418589254749\n",
            "Epoch [9/50], Train Loss: 0.05924395658740249, Test Loss: 0.0015083988809766879\n",
            "Epoch [10/50], Train Loss: 0.05892566650857824, Test Loss: 0.0014933627594559819\n",
            "Epoch [11/50], Train Loss: 0.05853497794919008, Test Loss: 0.0014869792833074418\n",
            "Epoch [12/50], Train Loss: 0.058644215332058464, Test Loss: 0.001494319833276843\n",
            "Epoch [13/50], Train Loss: 0.05824952542285715, Test Loss: 0.0014965125136502343\n",
            "Epoch [14/50], Train Loss: 0.05814187092956833, Test Loss: 0.0014836664662161707\n",
            "Epoch [15/50], Train Loss: 0.0579684756457026, Test Loss: 0.0014794099466882277\n",
            "Epoch [16/50], Train Loss: 0.05774212028126938, Test Loss: 0.0014873692064684154\n",
            "Epoch [17/50], Train Loss: 0.05738310910291819, Test Loss: 0.001474620158228131\n",
            "Epoch [18/50], Train Loss: 0.05761889498525794, Test Loss: 0.0014684906250623695\n",
            "Epoch [19/50], Train Loss: 0.057625686314386644, Test Loss: 0.0014753152435723366\n",
            "Epoch [20/50], Train Loss: 0.05765055130267965, Test Loss: 0.0014633313104680282\n",
            "Epoch [21/50], Train Loss: 0.057476313984493294, Test Loss: 0.001467589189797753\n",
            "Epoch [22/50], Train Loss: 0.05696020973990278, Test Loss: 0.0014659704590931591\n",
            "Epoch [23/50], Train Loss: 0.057129476526829634, Test Loss: 0.0014601926613216618\n",
            "Epoch [24/50], Train Loss: 0.056920524754790716, Test Loss: 0.0014785073782554597\n",
            "Epoch [25/50], Train Loss: 0.05689505362765826, Test Loss: 0.0014570484596513524\n",
            "Epoch [26/50], Train Loss: 0.056635698467032376, Test Loss: 0.0014541679462099256\n",
            "Epoch [27/50], Train Loss: 0.05667068887408933, Test Loss: 0.0014632045089518616\n",
            "Epoch [28/50], Train Loss: 0.05671561274602212, Test Loss: 0.0014476259398369736\n",
            "Epoch [29/50], Train Loss: 0.05674782505216837, Test Loss: 0.0014530203868227767\n",
            "Epoch [30/50], Train Loss: 0.05644741871977816, Test Loss: 0.0014452031130119875\n",
            "Epoch [31/50], Train Loss: 0.056297852649983555, Test Loss: 0.0014443871186260034\n",
            "Epoch [32/50], Train Loss: 0.056209280743185035, Test Loss: 0.001449776919622385\n",
            "Epoch [33/50], Train Loss: 0.05635304609745493, Test Loss: 0.0014396937627756097\n",
            "Epoch [34/50], Train Loss: 0.056339765162020036, Test Loss: 0.0014401073691509521\n",
            "Epoch [35/50], Train Loss: 0.05595241307361798, Test Loss: 0.0014497809990277309\n",
            "Epoch [36/50], Train Loss: 0.056234917147406215, Test Loss: 0.0014378477185398\n",
            "Epoch [37/50], Train Loss: 0.05577885707691932, Test Loss: 0.001442623569031632\n",
            "Epoch [38/50], Train Loss: 0.05597970375124538, Test Loss: 0.0014461976946986673\n",
            "Epoch [39/50], Train Loss: 0.05604846298907231, Test Loss: 0.0014349996137075097\n",
            "Epoch [40/50], Train Loss: 0.05584773841567612, Test Loss: 0.0014369022030340855\n",
            "Epoch [41/50], Train Loss: 0.05565651106635966, Test Loss: 0.0014336851386516267\n",
            "Epoch [42/50], Train Loss: 0.05564477568432494, Test Loss: 0.0014336401518760071\n",
            "Epoch [43/50], Train Loss: 0.05535128887711751, Test Loss: 0.0014311021951668164\n",
            "Epoch [44/50], Train Loss: 0.05526848156868915, Test Loss: 0.001430903777423467\n",
            "Epoch [45/50], Train Loss: 0.0555950896776814, Test Loss: 0.0014305698327691835\n",
            "Epoch [46/50], Train Loss: 0.05520265658035006, Test Loss: 0.001431460049669099\n",
            "Epoch [47/50], Train Loss: 0.05565381058614688, Test Loss: 0.001429953729245146\n",
            "Epoch [48/50], Train Loss: 0.05521400212958083, Test Loss: 0.0014265686160258014\n",
            "Epoch [49/50], Train Loss: 0.055289499541383576, Test Loss: 0.0014288354055963088\n",
            "Epoch [50/50], Train Loss: 0.055102374068905426, Test Loss: 0.0014235747857692124\n"
          ]
        }
      ],
      "source": [
        "model_lstm = SimpleLSTM(input_size=len(token_to_id))\n",
        "device = torch.device(\"cuda\") if torch.cuda.is_available() else torch.device(\"cpu\")\n",
        "criterion = nn.CrossEntropyLoss()\n",
        "optimizer = torch.optim.Adam(model_lstm.parameters(), lr=0.001, weight_decay=0.001)\n",
        "loader = DataLoader(train_lines, batch_size=30, shuffle=True)\n",
        "\n",
        "model_lstm = model_lstm.to(device)\n",
        "\n",
        "epochs = 50\n",
        "\n",
        "train_loss = []\n",
        "test_loss = []\n",
        "\n",
        "for epoch in range(epochs):\n",
        "    running_loss = 0.0\n",
        "    for i, data in enumerate(loader):\n",
        "        batch = to_matrix(data)\n",
        "        batch = torch.tensor(batch, dtype=torch.int64).to(device)\n",
        "        logp_seq = rnn_batch(model_lstm, batch, device)\n",
        "        predictions_logp = logp_seq[:, :-1].contiguous().view(-1, len(tokens))\n",
        "        actual_next_tokens = batch[:, 1:].flatten()\n",
        "\n",
        "        loss = criterion(predictions_logp, actual_next_tokens)\n",
        "        running_loss += loss.item()\n",
        "\n",
        "        # train with backprop\n",
        "        loss.backward()\n",
        "        optimizer.step()\n",
        "        optimizer.zero_grad()\n",
        "\n",
        "    with torch.no_grad():\n",
        "        batch = to_matrix(test_lines)\n",
        "        batch = torch.tensor(batch, dtype=torch.int64).to(device)\n",
        "\n",
        "        seq = rnn_batch(model_lstm, batch, device)\n",
        "        predictions = seq[:, :-1].contiguous().view(-1, len(tokens))\n",
        "        actual = batch[:, 1:].flatten()\n",
        "        test_loss_tmp = criterion(predictions, actual)\n",
        "        test_loss.append(test_loss_tmp.item() / len(test_lines))\n",
        "\n",
        "    train_loss_tmp = running_loss / len(loader.dataset)\n",
        "    train_loss.append(train_loss_tmp)\n",
        "    print(f'Epoch [{epoch+1}/{epochs}], Train Loss: {train_loss_tmp}, Test Loss: {test_loss[-1]}')"
      ]
    },
    {
      "cell_type": "code",
      "source": [
        "plt.plot(train_loss, label='train loss', color='black')\n",
        "plt.plot(test_loss, label='test loss', color='red')\n",
        "plt.legend()\n",
        "plt.show()"
      ],
      "metadata": {
        "colab": {
          "base_uri": "https://localhost:8080/",
          "height": 432
        },
        "id": "2s6EIIHW2f-4",
        "outputId": "786d3d56-2d65-48bb-aa4a-5d7011579ecc"
      },
      "execution_count": 98,
      "outputs": [
        {
          "output_type": "display_data",
          "data": {
            "text/plain": [
              "<Figure size 640x480 with 1 Axes>"
            ],
            "image/png": "[encoded data removed]"
          },
          "metadata": {}
        }
      ]
    },
    {
      "cell_type": "markdown",
      "source": [
        "Лосс выглядит примерно также как и для rnn"
      ],
      "metadata": {
        "id": "3x4M-yZC3hzA"
      }
    },
    {
      "cell_type": "markdown",
      "metadata": {
        "id": "qGbWxu9OoWSs"
      },
      "source": [
        "Generate text using the trained net with different `temperature` parameter: `[0.1, 0.2, 0.5, 1.0, 2.0]`.\n",
        "\n",
        "Evaluate the results visually, try to interpret them."
      ]
    },
    {
      "cell_type": "code",
      "execution_count": 100,
      "metadata": {
        "collapsed": true,
        "id": "i_kD9BYooWSs",
        "colab": {
          "base_uri": "https://localhost:8080/"
        },
        "outputId": "daf036de-64fc-47bb-c68e-8fb5227501f3"
      },
      "outputs": [
        {
          "output_type": "stream",
          "name": "stdout",
          "text": [
            "Temperature:  0.1\n",
            "а так не свет сердце своей\n",
            "а старен он стари следа\n",
            "а не стари сердце свет странный\n",
            "а не старин и старенный стал\n",
            "Temperature:  0.2\n",
            "а не свет и старенный стар\n",
            "а старо страсти полодной\n",
            "а старой сердце своей сердце\n",
            "а стари странный стари невой\n",
            "Temperature:  0.5\n",
            "а весенный друзь его стором\n",
            "а староды всед не предене\n",
            "а дает лино старе слов\n",
            "а слуши вогдно полсовил\n",
            "Temperature:  1.0\n",
            "а вили пои сперен наз\n",
            "а рушкие сных инегонь\n",
            "а отежеласьнороюн\n",
            "а лизный озбучала свод\n",
            "Temperature:  2.0\n",
            "атый рармиттурайцишый яцый фререйудрахивмязсамсматън\n",
            "азлбли ны узрюм ибужьновзстый\n",
            "ьню свделью т тосто блилаеюмналшепли\n",
            "абъетсешнюм эюпичоюнкмсдцй ээй тведевнождшьнедп\n",
            "афмуш зи пок вс люмо рачьзезахпщьемаменмууэфйжюмжю\n"
          ]
        }
      ],
      "source": [
        "for t in [0.1, 0.2, 0.5, 1.0, 2.0]:\n",
        "    print('Temperature: ', t)\n",
        "    for i in range(4):\n",
        "        model_lstm.eval()\n",
        "        print(generate_sample(model_lstm, seed_phrase='^а', max_length=100, temperature=t))"
      ]
    },
    {
      "cell_type": "code",
      "source": [
        "for t in [0.1, 0.2, 0.5, 1.0, 2.0]:\n",
        "    print('Temperature: ', t)\n",
        "    for i in range(4):\n",
        "        model.eval()\n",
        "        print(generate_sample(model, seed_phrase='^а', max_length=100, temperature=t))"
      ],
      "metadata": {
        "colab": {
          "base_uri": "https://localhost:8080/"
        },
        "id": "FICaSsZ_4gG4",
        "outputId": "bdb5a98b-adff-4395-dafa-385a87036ae7"
      },
      "execution_count": 101,
      "outputs": [
        {
          "output_type": "stream",
          "name": "stdout",
          "text": [
            "Temperature:  0.1\n",
            "а постранный постранный\n",
            "а воль он в том не постранный\n",
            "а воль он волно полно\n",
            "а постранный постранный\n",
            "Temperature:  0.2\n",
            "а страсти молодой полно\n",
            "а него страсти в том не страстей\n",
            "а все в сердце страсти в том\n",
            "а полно в дере постренит\n",
            "Temperature:  0.5\n",
            "а всех не вак он залевят\n",
            "а приходил уж из буренье\n",
            "а давно мило стренят\n",
            "а постровит на случает\n",
            "Temperature:  1.0\n",
            "алягин гак не небизно\n",
            "а нойны молвенной тромой\n",
            "а стала как утель яд\n",
            "асе так разрилося прирета\n",
            "Temperature:  2.0\n",
            "альжят нефлудав\n",
            "цымыхцем \n",
            "дамоюа\n",
            "а стиньъке с поиды ходкуия деми я\n",
            "асоченпя шискахы дузроньх тимнотряжамью ихолъчтой орпошь\n",
            "азерщемым сещгустих оздньиъы\n"
          ]
        }
      ]
    },
    {
      "cell_type": "markdown",
      "metadata": {
        "id": "QMxUkZBwoWSt"
      },
      "source": [
        "### Saving and loading models"
      ]
    },
    {
      "cell_type": "markdown",
      "metadata": {
        "id": "kqeMa2lroWSt"
      },
      "source": [
        "Save the model to the disk, then load it and generate text. Examples are available [here](https://pytorch.org/tutorials/beginner/saving_loading_models.html])."
      ]
    },
    {
      "cell_type": "code",
      "execution_count": 102,
      "metadata": {
        "collapsed": true,
        "id": "IBrY4sdPoWSt"
      },
      "outputs": [],
      "source": [
        "torch.save(model, 'model.pt')\n",
        "torch.save(model_lstm, 'model_lstm.pt')"
      ]
    },
    {
      "cell_type": "code",
      "source": [
        "model_loaded = torch.load('model.pt')\n",
        "model_lstm_loaded = torch.load('model_lstm.pt')"
      ],
      "metadata": {
        "id": "eTjNh9TW5gX_"
      },
      "execution_count": 105,
      "outputs": []
    },
    {
      "cell_type": "code",
      "source": [
        "generate_sample(model_lstm_loaded, seed_phrase='^у', max_length=100, temperature=0.1)"
      ],
      "metadata": {
        "colab": {
          "base_uri": "https://localhost:8080/",
          "height": 35
        },
        "id": "GM0uRoQ95jgD",
        "outputId": "04df7b2b-f561-4c37-f3c2-feee3ce8f972"
      },
      "execution_count": 106,
      "outputs": [
        {
          "output_type": "execute_result",
          "data": {
            "text/plain": [
              "'у старенный полод не свет'"
            ],
            "application/vnd.google.colaboratory.intrinsic+json": {
              "type": "string"
            }
          },
          "metadata": {},
          "execution_count": 106
        }
      ]
    },
    {
      "cell_type": "code",
      "source": [
        "generate_sample(model_loaded , seed_phrase='^у', max_length=100, temperature=0.1)"
      ],
      "metadata": {
        "colab": {
          "base_uri": "https://localhost:8080/",
          "height": 35
        },
        "id": "uz_H2Nnm5pzv",
        "outputId": "d6531d46-8958-4b94-81b8-1c138e6f5c06"
      },
      "execution_count": 107,
      "outputs": [
        {
          "output_type": "execute_result",
          "data": {
            "text/plain": [
              "'уж отверные простов'"
            ],
            "application/vnd.google.colaboratory.intrinsic+json": {
              "type": "string"
            }
          },
          "metadata": {},
          "execution_count": 107
        }
      ]
    },
    {
      "cell_type": "markdown",
      "metadata": {
        "id": "pt0g6OW-oWSt"
      },
      "source": [
        "### References\n",
        "1. <a href='http://karpathy.github.io/2015/05/21/rnn-effectiveness/'> Andrew Karpathy blog post about RNN. </a>\n",
        "There are several examples of genration: Shakespeare texts, Latex formulas, Linux Sourse Code and children names.\n",
        "2. <a href='https://github.com/karpathy/char-rnn'> Repo with char-rnn code </a>\n",
        "3. Cool repo with PyTorch examples: [link](https://github.com/spro/practical-pytorch`)"
      ]
    }
  ],
  "metadata": {
    "anaconda-cloud": {},
    "kernelspec": {
      "display_name": "Python 3",
      "language": "python",
      "name": "python3"
    },
    "language_info": {
      "codemirror_mode": {
        "name": "ipython",
        "version": 3
      },
      "file_extension": ".py",
      "mimetype": "text/x-python",
      "name": "python",
      "nbconvert_exporter": "python",
      "pygments_lexer": "ipython3",
      "version": "3.7.7"
    },
    "colab": {
      "provenance": []
    }
  },
  "nbformat": 4,
  "nbformat_minor": 0
}