{
  "cells": [
    {
      "cell_type": "markdown",
      "metadata": {
        "id": "NFmOh482SyEF"
      },
      "source": [
        "## Lab 2\n",
        "### Part 2: Dealing with overfitting"
      ]
    },
    {
      "cell_type": "markdown",
      "metadata": {
        "id": "AjzAuO3oSvsI"
      },
      "source": [
        "Today we work with [Fashion-MNIST dataset](https://github.com/zalandoresearch/fashion-mnist) (*hint: it is available in `torchvision`*).\n",
        "\n",
        "Your goal for today:\n",
        "1. Train a FC (fully-connected) network that achieves >= 0.885 test accuracy.\n",
        "2. Cause considerable overfitting by modifying the network (e.g. increasing the number of network parameters and/or layers) and demonstrate in in the appropriate way (e.g. plot loss and accurasy on train and validation set w.r.t. network complexity).\n",
        "3. Try to deal with overfitting (at least partially) by using regularization techniques (Dropout/Batchnorm/...) and demonstrate the results.\n",
        "\n",
        "__Please, write a small report describing your ideas, tries and achieved results in the end of this file.__\n",
        "\n",
        "*Note*: Tasks 2 and 3 are interrelated, in task 3 your goal is to make the network from task 2 less prone to overfitting. Task 1 is independent from 2 and 3.\n",
        "\n",
        "*Note 2*: We recomment to use Google Colab or other machine with GPU acceleration."
      ]
    },
    {
      "cell_type": "code",
      "execution_count": 27,
      "metadata": {
        "id": "_KBld6VOSwhW"
      },
      "outputs": [],
      "source": [
        "import torch\n",
        "import torch.nn as nn\n",
        "import torchvision\n",
        "import torchvision.transforms as transforms\n",
        "import torchsummary\n",
        "from IPython.display import clear_output\n",
        "from matplotlib import pyplot as plt\n",
        "from matplotlib.pyplot import figure\n",
        "import numpy as np\n",
        "import os\n",
        "\n",
        "\n",
        "device = 'cuda:0' if torch.cuda.is_available() else 'cpu'"
      ]
    },
    {
      "cell_type": "code",
      "execution_count": 28,
      "metadata": {
        "colab": {
          "base_uri": "https://localhost:8080/"
        },
        "id": "EdLOG0XqS_g5",
        "outputId": "e93bde72-7118-4453-d418-515e41acc624"
      },
      "outputs": [
        {
          "output_type": "stream",
          "name": "stdout",
          "text": [
            "Directory fmnist already exists!\n"
          ]
        }
      ],
      "source": [
        "# Technical function\n",
        "def mkdir(path):\n",
        "    if not os.path.exists(root_path):\n",
        "        os.mkdir(root_path)\n",
        "        print('Directory', path, 'is created!')\n",
        "    else:\n",
        "        print('Directory', path, 'already exists!')\n",
        "\n",
        "root_path = 'fmnist'\n",
        "mkdir(root_path)"
      ]
    },
    {
      "cell_type": "code",
      "execution_count": 29,
      "metadata": {
        "id": "qt6LE7XaTDT9"
      },
      "outputs": [],
      "source": [
        "download = True\n",
        "train_transform = transforms.ToTensor()\n",
        "test_transform = transforms.ToTensor()\n",
        "transforms.Compose((transforms.ToTensor()))\n",
        "\n",
        "\n",
        "fmnist_dataset_train = torchvision.datasets.FashionMNIST(root_path,\n",
        "                                                        train=True,\n",
        "                                                        transform=train_transform,\n",
        "                                                        target_transform=None,\n",
        "                                                        download=download)\n",
        "fmnist_dataset_test = torchvision.datasets.FashionMNIST(root_path,\n",
        "                                                       train=False,\n",
        "                                                       transform=test_transform,\n",
        "                                                       target_transform=None,\n",
        "                                                       download=download)"
      ]
    },
    {
      "cell_type": "code",
      "execution_count": 30,
      "metadata": {
        "id": "71YP0SPwTIxD"
      },
      "outputs": [],
      "source": [
        "train_loader = torch.utils.data.DataLoader(fmnist_dataset_train,\n",
        "                                           batch_size=128,\n",
        "                                           shuffle=True,\n",
        "                                           num_workers=2)\n",
        "test_loader = torch.utils.data.DataLoader(fmnist_dataset_test,\n",
        "                                          batch_size=256,\n",
        "                                          shuffle=False,\n",
        "                                          num_workers=2)"
      ]
    },
    {
      "cell_type": "code",
      "execution_count": 31,
      "metadata": {
        "colab": {
          "base_uri": "https://localhost:8080/"
        },
        "id": "v_YFmF7NTWrQ",
        "outputId": "587cf6ba-b9a5-4da7-bfed-3d0708107f53"
      },
      "outputs": [
        {
          "output_type": "execute_result",
          "data": {
            "text/plain": [
              "10000"
            ]
          },
          "metadata": {},
          "execution_count": 31
        }
      ],
      "source": [
        "len(fmnist_dataset_test)"
      ]
    },
    {
      "cell_type": "code",
      "execution_count": 32,
      "metadata": {
        "colab": {
          "base_uri": "https://localhost:8080/"
        },
        "id": "aHca15bOTY4B",
        "outputId": "940d0f1d-bede-4e77-c67c-a76116053bb5"
      },
      "outputs": [
        {
          "output_type": "stream",
          "name": "stdout",
          "text": [
            "torch.Size([128, 1, 28, 28])\n",
            "torch.Size([128])\n",
            "128\n"
          ]
        }
      ],
      "source": [
        "for img, label in train_loader:\n",
        "    print(img.shape)\n",
        "#     print(img)\n",
        "    print(label.shape)\n",
        "    print(label.size(0))\n",
        "    break"
      ]
    },
    {
      "cell_type": "markdown",
      "metadata": {
        "id": "b6OOOffHTfX5"
      },
      "source": [
        "### Task 1\n",
        "Train a network that achieves $\\geq 0.885$ test accuracy. It's fine to use only Linear (`nn.Linear`) layers and activations/dropout/batchnorm. Convolutional layers might be a great use, but we will meet them a bit later."
      ]
    },
    {
      "cell_type": "code",
      "execution_count": 33,
      "metadata": {
        "id": "ftpkTjxlTcFx"
      },
      "outputs": [],
      "source": [
        "class TinyNeuralNetwork(nn.Module):\n",
        "    def __init__(self, input_shape=28*28, num_classes=10, input_channels=1):\n",
        "        super(self.__class__, self).__init__()\n",
        "        self.model = nn.Sequential(\n",
        "            nn.Flatten(), # This layer converts image into a vector to use Linear layers afterwards\n",
        "            nn.Linear(input_shape, 1028),\n",
        "            nn.BatchNorm1d(1028),\n",
        "            nn.LeakyReLU(negative_slope=0.1),\n",
        "            nn.Dropout(p=0.2),\n",
        "\n",
        "            nn.Linear(1028, 1028),\n",
        "            nn.LeakyReLU(negative_slope=0.1),\n",
        "\n",
        "            nn.Linear(1028, num_classes)\n",
        "        )\n",
        "\n",
        "    def forward(self, inp):\n",
        "        out = self.model(inp)\n",
        "        return out"
      ]
    },
    {
      "cell_type": "code",
      "execution_count": 34,
      "metadata": {
        "colab": {
          "base_uri": "https://localhost:8080/"
        },
        "id": "FVrUNkrr3yzj",
        "outputId": "dd4a0d2c-a67f-49f4-e78a-936bafd4118f"
      },
      "outputs": [
        {
          "output_type": "stream",
          "name": "stdout",
          "text": [
            "----------------------------------------------------------------\n",
            "        Layer (type)               Output Shape         Param #\n",
            "================================================================\n",
            "           Flatten-1                  [-1, 784]               0\n",
            "            Linear-2                 [-1, 1028]         806,980\n",
            "       BatchNorm1d-3                 [-1, 1028]           2,056\n",
            "         LeakyReLU-4                 [-1, 1028]               0\n",
            "           Dropout-5                 [-1, 1028]               0\n",
            "            Linear-6                 [-1, 1028]       1,057,812\n",
            "         LeakyReLU-7                 [-1, 1028]               0\n",
            "            Linear-8                   [-1, 10]          10,290\n",
            "================================================================\n",
            "Total params: 1,877,138\n",
            "Trainable params: 1,877,138\n",
            "Non-trainable params: 0\n",
            "----------------------------------------------------------------\n",
            "Input size (MB): 0.00\n",
            "Forward/backward pass size (MB): 0.05\n",
            "Params size (MB): 7.16\n",
            "Estimated Total Size (MB): 7.22\n",
            "----------------------------------------------------------------\n"
          ]
        }
      ],
      "source": [
        "torchsummary.summary(TinyNeuralNetwork().to(device), (28*28,))"
      ]
    },
    {
      "cell_type": "markdown",
      "metadata": {
        "id": "544PGKEnjPr5"
      },
      "source": [
        "Your experiments come here:"
      ]
    },
    {
      "cell_type": "code",
      "execution_count": 35,
      "metadata": {
        "id": "i3POFj90Ti-6"
      },
      "outputs": [],
      "source": [
        "model = TinyNeuralNetwork().to(device)\n",
        "optimizer = torch.optim.Adam(model.parameters(), lr=0.0001, weight_decay=0.0001)\n",
        "loss_fn = torch.nn.CrossEntropyLoss()\n",
        "epochs = 25"
      ]
    },
    {
      "cell_type": "markdown",
      "source": [
        "Обучаем по аналогии с прошлой лабы"
      ],
      "metadata": {
        "id": "xIGR4sAF5XoJ"
      }
    },
    {
      "cell_type": "code",
      "source": [
        "predicted_labels = []\n",
        "real_labels = []\n",
        "\n",
        "for epoch in range(epochs):\n",
        "    running_loss = 0.\n",
        "    for batch in train_loader:\n",
        "        batch[0] = batch[0].to(device)\n",
        "        optimizer.zero_grad()\n",
        "\n",
        "        y_predicted = model(batch[0])\n",
        "        y_true = torch.eye(10)[batch[1]].to(device)\n",
        "\n",
        "        loss = loss_fn(y_predicted, y_true)\n",
        "        loss.backward()\n",
        "\n",
        "        optimizer.step()\n",
        "\n",
        "        running_loss += loss.item()\n",
        "\n",
        "        predicted_labels.append(y_predicted.argmax(dim=1))\n",
        "        real_labels.append(batch[1])\n",
        "\n",
        "    print(f'Epoch: {epoch+1}, Train loss: {running_loss:.5f}')"
      ],
      "metadata": {
        "colab": {
          "base_uri": "https://localhost:8080/"
        },
        "id": "Dyt6zSN868nV",
        "outputId": "33ee46aa-120e-409e-d975-c526d5456e2d"
      },
      "execution_count": 36,
      "outputs": [
        {
          "output_type": "stream",
          "name": "stdout",
          "text": [
            "Epoch: 1, Train loss: 237.90261\n",
            "Epoch: 2, Train loss: 166.74868\n",
            "Epoch: 3, Train loss: 149.77537\n",
            "Epoch: 4, Train loss: 138.02288\n",
            "Epoch: 5, Train loss: 128.30135\n",
            "Epoch: 6, Train loss: 120.78895\n",
            "Epoch: 7, Train loss: 114.35423\n",
            "Epoch: 8, Train loss: 109.27501\n",
            "Epoch: 9, Train loss: 102.83137\n",
            "Epoch: 10, Train loss: 98.22490\n",
            "Epoch: 11, Train loss: 93.56755\n",
            "Epoch: 12, Train loss: 90.56108\n",
            "Epoch: 13, Train loss: 85.63667\n",
            "Epoch: 14, Train loss: 83.20597\n",
            "Epoch: 15, Train loss: 79.13748\n",
            "Epoch: 16, Train loss: 74.79840\n",
            "Epoch: 17, Train loss: 72.14825\n",
            "Epoch: 18, Train loss: 70.43770\n",
            "Epoch: 19, Train loss: 67.49608\n",
            "Epoch: 20, Train loss: 64.52551\n",
            "Epoch: 21, Train loss: 62.00730\n",
            "Epoch: 22, Train loss: 60.82670\n",
            "Epoch: 23, Train loss: 58.11048\n",
            "Epoch: 24, Train loss: 55.60499\n",
            "Epoch: 25, Train loss: 54.07567\n"
          ]
        }
      ]
    },
    {
      "cell_type": "markdown",
      "source": [
        "Оценим модель"
      ],
      "metadata": {
        "id": "Qjfxc1LJ5cpE"
      }
    },
    {
      "cell_type": "code",
      "source": [
        "predicted_labels = []\n",
        "real_labels = []\n",
        "model.eval()\n",
        "with torch.no_grad():\n",
        "    for batch in test_loader:\n",
        "        batch[0] = batch[0].to(device)\n",
        "\n",
        "        y_predicted = model(batch[0])\n",
        "        y_true = torch.eye(10)[batch[1]].to(device)\n",
        "\n",
        "        predicted_labels.append(y_predicted.argmax(dim=1))\n",
        "        real_labels.append(batch[1])"
      ],
      "metadata": {
        "id": "QcySiSUk68fp"
      },
      "execution_count": 37,
      "outputs": []
    },
    {
      "cell_type": "code",
      "source": [
        "predicted_labels = torch.cat(predicted_labels).to('cpu')\n",
        "real_labels = torch.cat(real_labels).to('cpu')"
      ],
      "metadata": {
        "id": "rsdK-jRk93-X"
      },
      "execution_count": 38,
      "outputs": []
    },
    {
      "cell_type": "code",
      "source": [
        "test_acc = (predicted_labels == real_labels).type(torch.FloatTensor).mean()"
      ],
      "metadata": {
        "id": "tCatPFqC_dw1"
      },
      "execution_count": 39,
      "outputs": []
    },
    {
      "cell_type": "code",
      "source": [
        "test_acc"
      ],
      "metadata": {
        "colab": {
          "base_uri": "https://localhost:8080/"
        },
        "id": "6pRl51_6_xq6",
        "outputId": "c26a2b9c-1b70-4a79-f977-eb2f80c3b718"
      },
      "execution_count": 40,
      "outputs": [
        {
          "output_type": "execute_result",
          "data": {
            "text/plain": [
              "tensor(0.8891)"
            ]
          },
          "metadata": {},
          "execution_count": 40
        }
      ]
    },
    {
      "cell_type": "markdown",
      "metadata": {
        "id": "L7ISqkjmCPB1"
      },
      "source": [
        "### Task 2: Overfit it.\n",
        "Build a network that will overfit to this dataset. Demonstrate the overfitting in the appropriate way (e.g. plot loss and accurasy on train and test set w.r.t. network complexity).\n",
        "\n",
        "*Note:* you also might decrease the size of `train` dataset to enforce the overfitting and speed up the computations."
      ]
    },
    {
      "cell_type": "code",
      "execution_count": 41,
      "metadata": {
        "id": "H12uAWiGBwJx"
      },
      "outputs": [],
      "source": [
        "class OverfittingNeuralNetwork(nn.Module):\n",
        "    def __init__(self, input_shape=28*28, num_classes=10, input_channels=1):\n",
        "        super(self.__class__, self).__init__()\n",
        "        self.model = nn.Sequential(\n",
        "            nn.Flatten(), # This layer converts image into a vector to use Linear layers afterwards\n",
        "\n",
        "            nn.Linear(input_shape, 2048),\n",
        "            nn.ReLU(),\n",
        "\n",
        "            nn.Linear(2048, 2048),\n",
        "            nn.ReLU(),\n",
        "\n",
        "            nn.Linear(2048, 2048),\n",
        "            nn.ReLU(),\n",
        "\n",
        "            nn.Linear(2048, 2048),\n",
        "            nn.ReLU(),\n",
        "\n",
        "            nn.Linear(2048, num_classes)\n",
        "        )\n",
        "\n",
        "    def forward(self, inp):\n",
        "        out = self.model(inp)\n",
        "        return out"
      ]
    },
    {
      "cell_type": "code",
      "execution_count": 42,
      "metadata": {
        "colab": {
          "base_uri": "https://localhost:8080/"
        },
        "id": "JgXAKCpvCwqH",
        "outputId": "c3f2c4a2-1c4f-4069-c62a-8f0b2206e68c"
      },
      "outputs": [
        {
          "output_type": "stream",
          "name": "stdout",
          "text": [
            "----------------------------------------------------------------\n",
            "        Layer (type)               Output Shape         Param #\n",
            "================================================================\n",
            "           Flatten-1                  [-1, 784]               0\n",
            "            Linear-2                 [-1, 2048]       1,607,680\n",
            "              ReLU-3                 [-1, 2048]               0\n",
            "            Linear-4                 [-1, 2048]       4,196,352\n",
            "              ReLU-5                 [-1, 2048]               0\n",
            "            Linear-6                 [-1, 2048]       4,196,352\n",
            "              ReLU-7                 [-1, 2048]               0\n",
            "            Linear-8                 [-1, 2048]       4,196,352\n",
            "              ReLU-9                 [-1, 2048]               0\n",
            "           Linear-10                   [-1, 10]          20,490\n",
            "================================================================\n",
            "Total params: 14,217,226\n",
            "Trainable params: 14,217,226\n",
            "Non-trainable params: 0\n",
            "----------------------------------------------------------------\n",
            "Input size (MB): 0.00\n",
            "Forward/backward pass size (MB): 0.13\n",
            "Params size (MB): 54.23\n",
            "Estimated Total Size (MB): 54.37\n",
            "----------------------------------------------------------------\n"
          ]
        }
      ],
      "source": [
        "torchsummary.summary(OverfittingNeuralNetwork().to(device), (28*28,))"
      ]
    },
    {
      "cell_type": "code",
      "execution_count": 43,
      "metadata": {
        "id": "JF0oXPRP3yzm"
      },
      "outputs": [],
      "source": [
        "model = OverfittingNeuralNetwork().to(device)\n",
        "optimizer = torch.optim.Adam(model.parameters(), lr=0.001, weight_decay=0.001)\n",
        "loss_fn = torch.nn.CrossEntropyLoss()\n",
        "epochs = 10"
      ]
    },
    {
      "cell_type": "code",
      "source": [
        "def test_loss_print():\n",
        "    global model\n",
        "\n",
        "    model.eval()\n",
        "    running_loss = 0\n",
        "    with torch.no_grad():\n",
        "        for batch in test_loader:\n",
        "            batch[0] = batch[0].to(device)\n",
        "\n",
        "            y_predicted = model(batch[0])\n",
        "            y_true = torch.eye(10)[batch[1]].to(device)\n",
        "\n",
        "            loss = loss_fn(y_predicted, y_true)\n",
        "            running_loss += loss.item()\n",
        "    return running_loss"
      ],
      "metadata": {
        "id": "w5MmsB1NGLg7"
      },
      "execution_count": 44,
      "outputs": []
    },
    {
      "cell_type": "code",
      "source": [
        "predicted_labels = []\n",
        "real_labels = []\n",
        "train_loss = []\n",
        "test_loss = []\n",
        "\n",
        "for epoch in range(epochs):\n",
        "    running_loss = 0.\n",
        "    for batch in train_loader:\n",
        "        model.train()\n",
        "        batch[0] = batch[0].to(device)\n",
        "        optimizer.zero_grad()\n",
        "\n",
        "        y_predicted = model(batch[0])\n",
        "        y_true = torch.eye(10)[batch[1]].to(device)\n",
        "\n",
        "        loss = loss_fn(y_predicted, y_true)\n",
        "        loss.backward()\n",
        "\n",
        "        optimizer.step()\n",
        "\n",
        "        running_loss += loss.item()\n",
        "\n",
        "        predicted_labels.append(y_predicted.argmax(dim=1))\n",
        "        real_labels.append(batch[1])\n",
        "\n",
        "    test_loss_tmp = test_loss_print() / len(test_loader.dataset)\n",
        "    train_loss_tmp = running_loss / len(train_loader.dataset)\n",
        "    test_loss.append(test_loss_tmp)\n",
        "    train_loss.append(train_loss_tmp)\n",
        "    print(f'Epoch: {epoch+1}, Train loss: {train_loss_tmp:.5f}, Test loss: {test_loss_tmp:.5f}')"
      ],
      "metadata": {
        "colab": {
          "base_uri": "https://localhost:8080/"
        },
        "id": "k5fytuGWGFcR",
        "outputId": "0fa1c493-1f54-468f-e828-086a9889ba33"
      },
      "execution_count": 45,
      "outputs": [
        {
          "output_type": "stream",
          "name": "stdout",
          "text": [
            "Epoch: 1, Train loss: 0.00444, Test loss: 0.00182\n",
            "Epoch: 2, Train loss: 0.00324, Test loss: 0.00198\n",
            "Epoch: 3, Train loss: 0.00295, Test loss: 0.00159\n",
            "Epoch: 4, Train loss: 0.00277, Test loss: 0.00156\n",
            "Epoch: 5, Train loss: 0.00264, Test loss: 0.00162\n",
            "Epoch: 6, Train loss: 0.00255, Test loss: 0.00146\n",
            "Epoch: 7, Train loss: 0.00247, Test loss: 0.00141\n",
            "Epoch: 8, Train loss: 0.00241, Test loss: 0.00143\n",
            "Epoch: 9, Train loss: 0.00237, Test loss: 0.00143\n",
            "Epoch: 10, Train loss: 0.00232, Test loss: 0.00140\n"
          ]
        }
      ]
    },
    {
      "cell_type": "code",
      "source": [
        "plt.plot(np.arange(1, epochs+1), train_loss, label='train_loss', color='black')\n",
        "plt.plot(np.arange(1, epochs+1), test_loss, label='test_loss', color='red')\n",
        "plt.legend()"
      ],
      "metadata": {
        "colab": {
          "base_uri": "https://localhost:8080/",
          "height": 448
        },
        "id": "TrJPoI5HwdJb",
        "outputId": "13fdde8a-6982-4b47-bf98-bc5ceec5b2e5"
      },
      "execution_count": 46,
      "outputs": [
        {
          "output_type": "execute_result",
          "data": {
            "text/plain": [
              "<matplotlib.legend.Legend at 0x7c5128d3e4d0>"
            ]
          },
          "metadata": {},
          "execution_count": 46
        },
        {
          "output_type": "display_data",
          "data": {
            "text/plain": [
              "<Figure size 640x480 with 1 Axes>"
            ],
            "image/png": "[encoded data removed]"
          },
          "metadata": {}
        }
      ]
    },
    {
      "cell_type": "markdown",
      "source": [
        "Как видите потери на тренировочном сэмпле уменьшаются, но на тесте - не сильно уменьшаются."
      ],
      "metadata": {
        "id": "X0NswaBeKoRZ"
      }
    },
    {
      "cell_type": "markdown",
      "metadata": {
        "id": "gHj8M3AU3yzm"
      },
      "source": [
        "### Task 3: Fix it.\n",
        "Fix the overfitted network from the previous step (at least partially) by using regularization techniques (Dropout/Batchnorm/...) and demonstrate the results."
      ]
    },
    {
      "cell_type": "code",
      "execution_count": 47,
      "metadata": {
        "id": "jXjzPFBD3yzm"
      },
      "outputs": [],
      "source": [
        "class FixedNeuralNetwork(nn.Module):\n",
        "    def __init__(self, input_shape=28*28, num_classes=10, input_channels=1):\n",
        "        super(self.__class__, self).__init__()\n",
        "        self.model = nn.Sequential(\n",
        "            nn.Flatten(), # This layer converts image into a vector to use Linear layers afterwards\n",
        "\n",
        "            nn.Linear(input_shape, 2048),\n",
        "            nn.BatchNorm1d(2048),\n",
        "            nn.LeakyReLU(negative_slope=0.1),\n",
        "            nn.Dropout(0.2),\n",
        "\n",
        "            nn.Linear(2048, 2048),\n",
        "            nn.BatchNorm1d(2048),\n",
        "            nn.LeakyReLU(negative_slope=0.1),\n",
        "            nn.Dropout(0.2),\n",
        "\n",
        "            nn.Linear(2048, 2048),\n",
        "            nn.BatchNorm1d(2048),\n",
        "            nn.LeakyReLU(negative_slope=0.1),\n",
        "            nn.Dropout(0.2),\n",
        "\n",
        "            nn.Linear(2048, 2048),\n",
        "            nn.BatchNorm1d(2048),\n",
        "            nn.LeakyReLU(negative_slope=0.1),\n",
        "\n",
        "            nn.Linear(2048, num_classes)\n",
        "        )\n",
        "\n",
        "    def forward(self, inp):\n",
        "        out = self.model(inp)\n",
        "        return out"
      ]
    },
    {
      "cell_type": "code",
      "execution_count": 48,
      "metadata": {
        "colab": {
          "base_uri": "https://localhost:8080/"
        },
        "id": "9AHe4sEK3yzm",
        "outputId": "79ea0409-21fb-4439-f16a-9c0e6fdbdd9e"
      },
      "outputs": [
        {
          "output_type": "stream",
          "name": "stdout",
          "text": [
            "----------------------------------------------------------------\n",
            "        Layer (type)               Output Shape         Param #\n",
            "================================================================\n",
            "           Flatten-1                  [-1, 784]               0\n",
            "            Linear-2                 [-1, 2048]       1,607,680\n",
            "       BatchNorm1d-3                 [-1, 2048]           4,096\n",
            "         LeakyReLU-4                 [-1, 2048]               0\n",
            "           Dropout-5                 [-1, 2048]               0\n",
            "            Linear-6                 [-1, 2048]       4,196,352\n",
            "       BatchNorm1d-7                 [-1, 2048]           4,096\n",
            "         LeakyReLU-8                 [-1, 2048]               0\n",
            "           Dropout-9                 [-1, 2048]               0\n",
            "           Linear-10                 [-1, 2048]       4,196,352\n",
            "      BatchNorm1d-11                 [-1, 2048]           4,096\n",
            "        LeakyReLU-12                 [-1, 2048]               0\n",
            "          Dropout-13                 [-1, 2048]               0\n",
            "           Linear-14                 [-1, 2048]       4,196,352\n",
            "      BatchNorm1d-15                 [-1, 2048]           4,096\n",
            "        LeakyReLU-16                 [-1, 2048]               0\n",
            "           Linear-17                   [-1, 10]          20,490\n",
            "================================================================\n",
            "Total params: 14,233,610\n",
            "Trainable params: 14,233,610\n",
            "Non-trainable params: 0\n",
            "----------------------------------------------------------------\n",
            "Input size (MB): 0.00\n",
            "Forward/backward pass size (MB): 0.24\n",
            "Params size (MB): 54.30\n",
            "Estimated Total Size (MB): 54.54\n",
            "----------------------------------------------------------------\n"
          ]
        }
      ],
      "source": [
        "torchsummary.summary(FixedNeuralNetwork().to(device), (28*28,))"
      ]
    },
    {
      "cell_type": "markdown",
      "source": [
        "Устанавливаем все параметры как в предыдущем примере"
      ],
      "metadata": {
        "id": "Q2cyRdFjzxJ9"
      }
    },
    {
      "cell_type": "code",
      "execution_count": 49,
      "metadata": {
        "id": "pJ--y5UR3yzn"
      },
      "outputs": [],
      "source": [
        "model = FixedNeuralNetwork().to(device)\n",
        "optimizer = torch.optim.Adam(model.parameters(), lr=0.001, weight_decay=0.001)\n",
        "loss_fn = torch.nn.CrossEntropyLoss()\n",
        "epochs = 10"
      ]
    },
    {
      "cell_type": "code",
      "source": [
        "def test_loss_print():\n",
        "    global model\n",
        "\n",
        "    model.eval()\n",
        "    running_loss = 0\n",
        "    with torch.no_grad():\n",
        "        for batch in test_loader:\n",
        "            batch[0] = batch[0].to(device)\n",
        "\n",
        "            y_predicted = model(batch[0])\n",
        "            y_true = torch.eye(10)[batch[1]].to(device)\n",
        "\n",
        "            loss = loss_fn(y_predicted, y_true)\n",
        "            running_loss += loss.item()\n",
        "    return running_loss"
      ],
      "metadata": {
        "id": "H7PSFxGNzsHu"
      },
      "execution_count": 50,
      "outputs": []
    },
    {
      "cell_type": "code",
      "source": [
        "predicted_labels = []\n",
        "real_labels = []\n",
        "train_loss = []\n",
        "test_loss = []\n",
        "\n",
        "for epoch in range(epochs):\n",
        "    running_loss = 0.\n",
        "    for batch in train_loader:\n",
        "        model.train()\n",
        "        batch[0] = batch[0].to(device)\n",
        "        optimizer.zero_grad()\n",
        "\n",
        "        y_predicted = model(batch[0])\n",
        "        y_true = torch.eye(10)[batch[1]].to(device)\n",
        "\n",
        "        loss = loss_fn(y_predicted, y_true)\n",
        "        loss.backward()\n",
        "\n",
        "        optimizer.step()\n",
        "\n",
        "        running_loss += loss.item()\n",
        "\n",
        "        predicted_labels.append(y_predicted.argmax(dim=1))\n",
        "        real_labels.append(batch[1])\n",
        "\n",
        "    test_loss_tmp = test_loss_print() / len(test_loader.dataset)\n",
        "    train_loss_tmp = running_loss / len(train_loader.dataset)\n",
        "    test_loss.append(test_loss_tmp)\n",
        "    train_loss.append(train_loss_tmp)\n",
        "    print(f'Epoch: {epoch+1}, Train loss: {train_loss_tmp:.5f}, Test loss: {test_loss_tmp:.5f}')"
      ],
      "metadata": {
        "colab": {
          "base_uri": "https://localhost:8080/"
        },
        "id": "00aXRokqzoGc",
        "outputId": "cf00bf92-e90f-4d8d-e168-060dac436bdf"
      },
      "execution_count": 51,
      "outputs": [
        {
          "output_type": "stream",
          "name": "stdout",
          "text": [
            "Epoch: 1, Train loss: 0.00402, Test loss: 0.00203\n",
            "Epoch: 2, Train loss: 0.00359, Test loss: 0.00182\n",
            "Epoch: 3, Train loss: 0.00349, Test loss: 0.00212\n",
            "Epoch: 4, Train loss: 0.00345, Test loss: 0.00173\n",
            "Epoch: 5, Train loss: 0.00333, Test loss: 0.00193\n",
            "Epoch: 6, Train loss: 0.00317, Test loss: 0.00166\n",
            "Epoch: 7, Train loss: 0.00306, Test loss: 0.00164\n",
            "Epoch: 8, Train loss: 0.00298, Test loss: 0.00149\n",
            "Epoch: 9, Train loss: 0.00292, Test loss: 0.00147\n",
            "Epoch: 10, Train loss: 0.00289, Test loss: 0.00162\n"
          ]
        }
      ]
    },
    {
      "cell_type": "code",
      "source": [
        "plt.plot(np.arange(1, epochs+1), train_loss, label='train_loss', color='black')\n",
        "plt.plot(np.arange(1, epochs+1), test_loss, label='test_loss', color='red')\n",
        "plt.legend()"
      ],
      "metadata": {
        "colab": {
          "base_uri": "https://localhost:8080/",
          "height": 448
        },
        "id": "TtnAtDs_zvhj",
        "outputId": "c8f2699a-dbe3-4d01-f4c7-fbe882fef582"
      },
      "execution_count": 52,
      "outputs": [
        {
          "output_type": "execute_result",
          "data": {
            "text/plain": [
              "<matplotlib.legend.Legend at 0x7c5121d93460>"
            ]
          },
          "metadata": {},
          "execution_count": 52
        },
        {
          "output_type": "display_data",
          "data": {
            "text/plain": [
              "<Figure size 640x480 with 1 Axes>"
            ],
            "image/png": "[encoded data removed]"
          },
          "metadata": {}
        }
      ]
    },
    {
      "cell_type": "markdown",
      "metadata": {
        "id": "dMui_uLJ7G0d"
      },
      "source": [
        "### Conclusions:\n",
        "Как вы можете видеть, замена ReLu на более дифференцируемый LeakyReLu и добавление некоторых регуляризаций, таких как Dropout и BatchNorm, может спасти день. Это кажется не таким очевидным, но использование другого набора данных может показать вам эффект. В целом BatchNorms был представлен в 2015 году и это был прорыв в глубоком обучении. Неудивительно, что в сочетании с другими регуляризациями это может улучшить производительность модели."
      ]
    },
    {
      "cell_type": "code",
      "source": [],
      "metadata": {
        "id": "ZyhvTybw44sf"
      },
      "execution_count": 52,
      "outputs": []
    }
  ],
  "metadata": {
    "accelerator": "GPU",
    "colab": {
      "provenance": []
    },
    "kernelspec": {
      "display_name": "Python 3",
      "language": "python",
      "name": "python3"
    },
    "language_info": {
      "codemirror_mode": {
        "name": "ipython",
        "version": 3
      },
      "file_extension": ".py",
      "mimetype": "text/x-python",
      "name": "python",
      "nbconvert_exporter": "python",
      "pygments_lexer": "ipython3",
      "version": "3.7.7"
    }
  },
  "nbformat": 4,
  "nbformat_minor": 0
}