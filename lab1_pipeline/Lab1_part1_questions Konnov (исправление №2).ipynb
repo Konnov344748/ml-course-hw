{
 "cells": [
  {
   "cell_type": "markdown",
   "metadata": {
    "id": "PLFUNwj2TJht"
   },
   "source": [
    "*Credits: materials from this notebook belong to YSDA [Practical DL](https://github.com/yandexdataschool/Practical_DL) course. Special thanks for making them available online.*"
   ]
  },
  {
   "cell_type": "markdown",
   "metadata": {
    "id": "6-3tM_X4TJhx"
   },
   "source": [
    "# Lab assignment №1, part 1\n",
    "\n",
    "This lab assignment consists of several parts. You are supposed to make some transformations, train some models, estimate the quality of the models and explain your results.\n",
    "\n",
    "Several comments:\n",
    "* Don't hesitate to ask questions, it's a good practice.\n",
    "* No private/public sharing, please. The copied assignments will be graded with 0 points.\n",
    "* Blocks of this lab will be graded separately."
   ]
  },
  {
   "cell_type": "markdown",
   "metadata": {
    "id": "srh9WJ4jTJhy"
   },
   "source": [
    "## 1. Matrix differentiation"
   ]
  },
  {
   "cell_type": "markdown",
   "metadata": {
    "id": "zLUgYZ76TJhz"
   },
   "source": [
    "Since it easy to google every task please please please try to undestand what's going on. The \"just answer\" thing will be not counted, make sure to present derivation of your solution. It is absolutely OK if you found an answer on web then just exercise in $\\LaTeX$ copying it into here."
   ]
  },
  {
   "cell_type": "markdown",
   "metadata": {
    "id": "lZXGtcmqTJh0"
   },
   "source": [
    "Useful links:\n",
    "[1](http://www.machinelearning.ru/wiki/images/2/2a/Matrix-Gauss.pdf)\n",
    "[2](http://www.atmos.washington.edu/~dennis/MatrixCalculus.pdf)"
   ]
  },
  {
   "cell_type": "markdown",
   "metadata": {
    "id": "XRZdlR8TTJh0"
   },
   "source": [
    "## ex. 1"
   ]
  },
  {
   "cell_type": "markdown",
   "metadata": {
    "id": "PF8FTBXITJh1"
   },
   "source": [
    "$$  \n",
    "y = x^Tx,  \\quad x \\in \\mathbb{R}^N\n",
    "$$"
   ]
  },
  {
   "cell_type": "markdown",
   "metadata": {
    "id": "XVM4kDcsTJh1"
   },
   "source": [
    "$$\n",
    "\\frac{dy}{dx} = 2x\n",
    "$$"
   ]
  },
  {
   "cell_type": "markdown",
   "metadata": {
    "id": "GE13uYiod4tu"
   },
   "source": [
    "Так как $y=x_{1}^{2} + ... + x_{N}^{2}$ - легко покомпонентно профиддевернцировать $y$. В этом случае получим $\\frac{\\partial{y}}{\\partial{x_i}} = 2x_i$, тогда в матричном преставлении записывается (см. формулу выше)."
   ]
  },
  {
   "cell_type": "code",
   "execution_count": null,
   "metadata": {
    "id": "rfxCVezTTJh2",
    "jupyter": {
     "outputs_hidden": true
    }
   },
   "outputs": [],
   "source": []
  },
  {
   "cell_type": "markdown",
   "metadata": {
    "id": "P7maR_4gTJh3"
   },
   "source": [
    "## ex. 2"
   ]
  },
  {
   "cell_type": "markdown",
   "metadata": {
    "id": "CYEWT2sCTJh3"
   },
   "source": [
    "$$ y = tr(AB) \\quad A,B \\in \\mathbb{R}^{N \\times N} $$"
   ]
  },
  {
   "cell_type": "markdown",
   "metadata": {
    "id": "1hjeUgt4TJh4"
   },
   "source": [
    "$$\n",
    "\\frac{dy}{dA} = B^T\n",
    "$$"
   ]
  },
  {
   "cell_type": "markdown",
   "metadata": {
    "id": "CeqjuKmvegGp"
   },
   "source": [
    "Здесь мы используем общее правило дифференцирования, описанное ниже. \\\n",
    "Если F(X) дифференцируемая фунция по каждому элементу из X тогда частная производная - это: \\\n",
    "$$ \\frac{\\partial{tr(F(X)}}{\\partial{X}} = f(X)^{T} $$\n",
    "где $f(X)$ - это скалярная производная функции $F(X)$\n",
    "\n",
    "В нашем случае $F(A,B) = AB ⇒ \\frac{\\partial{F(A,B)}}{\\partial{A}}=B$"
   ]
  },
  {
   "cell_type": "code",
   "execution_count": null,
   "metadata": {
    "id": "S0Gnz-GlTJh4",
    "jupyter": {
     "outputs_hidden": true
    }
   },
   "outputs": [],
   "source": []
  },
  {
   "cell_type": "markdown",
   "metadata": {
    "id": "92wx0g8CTJh4"
   },
   "source": [
    "## ex. 3"
   ]
  },
  {
   "cell_type": "markdown",
   "metadata": {
    "id": "nEp-HpHTTJh5"
   },
   "source": [
    "$$  \n",
    "y = x^TAc , \\quad A\\in \\mathbb{R}^{N \\times N}, x\\in \\mathbb{R}^{N}, c\\in \\mathbb{R}^{N}\n",
    "$$"
   ]
  },
  {
   "cell_type": "markdown",
   "metadata": {
    "id": "QrXt0CEGTJh5"
   },
   "source": [
    "$$\n",
    "\\frac{dy}{dx} = Ac\n",
    "$$"
   ]
  },
  {
   "cell_type": "markdown",
   "metadata": {
    "id": "DBHRQz_JeqJr"
   },
   "source": [
    "Аналогично первому заданию можно покомпонентно расписать и продифференцировать $y=x^{T}Ac= \\sum \\limits_{i=1}^{N} c_{i} \\sum \\limits_{j=1}^{N} a_{ji}x_{j}$"
   ]
  },
  {
   "cell_type": "markdown",
   "metadata": {
    "id": "NF9g6YmhTJh6"
   },
   "source": [
    "$$\n",
    "\\frac{dy}{dA} = xc^T\n",
    "$$"
   ]
  },
  {
   "cell_type": "markdown",
   "metadata": {
    "id": "FnDVRM98TJh6"
   },
   "source": [
    "Hint for the latter (one of the ways): use *ex. 2* result and the fact\n",
    "$$\n",
    "tr(ABC) = tr (CAB)\n",
    "$$"
   ]
  },
  {
   "cell_type": "code",
   "execution_count": null,
   "metadata": {
    "id": "D5_s0PPTTJh7",
    "jupyter": {
     "outputs_hidden": true
    }
   },
   "outputs": [],
   "source": []
  },
  {
   "cell_type": "markdown",
   "metadata": {
    "id": "Icj3VZJqTJh8"
   },
   "source": [
    "## ex. 4"
   ]
  },
  {
   "cell_type": "markdown",
   "metadata": {
    "id": "-eqEGe2FTJh8"
   },
   "source": [
    "Classic matrix factorization example. Given matrix $X$ you need to find $A$, $S$ to approximate $X$. This can be done by simple gradient descent iteratively alternating $A$ and $S$ updates.\n",
    "$$\n",
    "J = || X - AS ||_F^2  , \\quad A\\in \\mathbb{R}^{N \\times R} , \\quad S\\in \\mathbb{R}^{R \\times M}\n",
    "$$\n",
    "$$\n",
    "\\frac{dJ}{dS} = ?\n",
    "$$\n",
    "\n",
    "You may use one of the following approaches:"
   ]
  },
  {
   "cell_type": "markdown",
   "metadata": {
    "id": "c-ALB-53TJh8"
   },
   "source": [
    "#### First approach\n",
    "Using ex.2 and the fact:\n",
    "$$\n",
    "|| X ||_F^2 = tr(XX^T)\n",
    "$$\n",
    "it is easy to derive gradients (you can find it in one of the refs)."
   ]
  },
  {
   "cell_type": "markdown",
   "metadata": {
    "id": "QNjHgPxFTJh9"
   },
   "source": [
    "#### Second approach\n",
    "You can use *slightly different techniques* if they suits you. Take a look at this derivation:\n",
    "<img src=\"grad.png\">\n",
    "(excerpt from [Handbook of blind source separation, Jutten, page 517](https://books.google.ru/books?id=PTbj03bYH6kC&printsec=frontcover&dq=Handbook+of+Blind+Source+Separation&hl=en&sa=X&ved=0ahUKEwi-q_apiJDLAhULvXIKHVXJDWcQ6AEIHDAA#v=onepage&q=Handbook%20of%20Blind%20Source%20Separation&f=false), open for better picture)."
   ]
  },
  {
   "cell_type": "markdown",
   "metadata": {
    "id": "6Br1a5oJTJh-"
   },
   "source": [
    "#### Third approach\n",
    "And finally we can use chain rule!\n",
    "let $ F = AS $\n",
    "\n",
    "**Find**\n",
    "$$\n",
    "\\frac{dJ}{dF} =  [ \\frac{∂(\\sum \\limits_{i=1}^{m} \\sum \\limits_{j=1}^{n}(x_{ji}-f_{ji})^{2})}{∂f_{kl}} ]_{k=1,..,n\\\\ l=1,..m} = [ 2(f_{kl}-x_{kl}) ]_{k=1,..,n\\\\ l=1,..m} = 2(F-X)\n",
    "$$\n",
    "теперт\n",
    "$$\n",
    "\\frac{dF}{dS} =  A^{T}\n",
    "$$\n",
    "(форма матрицы должна быть $ NM \\times RM )$.\n",
    "\n",
    "Используя правило замены переменной мы вычисляем две частные производные и берем их произведение\n",
    "$$\n",
    "\\frac{dJ}{dS} = \\frac{∂J}{∂F}\\frac{∂F}{∂S}= 2(AS-X)A^{T}\n",
    "$$"
   ]
  },
  {
   "cell_type": "markdown",
   "metadata": {
    "collapsed": true,
    "id": "vGKDwivFTJh-",
    "jupyter": {
     "outputs_hidden": true
    }
   },
   "source": [
    "## 2. kNN questions\n",
    "Here come the questions from the assignment0_01. Please, refer to the assignment0_01 to get the context of the questions."
   ]
  },
  {
   "cell_type": "markdown",
   "metadata": {
    "id": "BY0_l9OhTJh_"
   },
   "source": [
    "### Question 1\n",
    "\n",
    "Notice the structured patterns in the distance matrix, where some rows or columns are visible brighter. (Note that with the default color scheme black indicates low distances while white indicates high distances.)\n",
    "\n",
    "- What in the data is the cause behind the distinctly bright rows?\n",
    "- What causes the columns?\n",
    "\n",
    "*Your Answer:*\n",
    "\n",
    "При ответе на первый вопрос я бы выделил следующие варианты\n",
    "\n",
    "Выбросы: Строки, которые кажутся отчетливо яркими, могут быть выбросами или точками данных, которые значительно отличаются от остальных данных. Эти выбросы могут находиться на большом расстоянии от большинства других точек данных, что приводит к появлению ярких строк в матрице расстояний.\n",
    "\n",
    "Зашумленные данные: строки с зашумленными или противоречивыми данными могут иметь яркие строки. Зашумленные точки данных могут привести к большим различиям с другими точками данных.\n",
    "\n",
    "Разреженные данные. В некоторых случаях, когда в определенных строках отсутствуют значения или разрежена информация, это может привести к большим расстояниям, поскольку алгоритму может быть сложно найти близких соседей для этих точек данных.\n",
    "\n",
    "Насчет второго вопроса:\n",
    "\n",
    "Признаки с низкой релевантностью. Столбцы, в которых показаны яркие ячейки могут быть менее релевантными или информативными для задачи KNN. Большие расстояния в этих столбцах указывают на то, что соответствующие признаки не вносят существенного вклада в расчеты сходства.\n",
    "\n",
    "Категориальные переменные. Если набор данных содержит категориальные переменные, кодирование этих переменных может привести к появлению ярких столбцов. KNN может рассматривать разные категории как далекие друг от друга из-за кодирования или выбора метрики расстояния.\n",
    "\n",
    "Масштабирование и нормализация. Столбцы с явными проблемами масштабирования или нормализации могут привести к появлению ярких столбцов. Если некоторые объекты имеют другой масштаб, чем другие, они могут оказать большее влияние на расчеты расстояний, что приведет к появлению ярких столбцов.\n",
    "\n",
    "\n",
    "\n"
   ]
  },
  {
   "cell_type": "markdown",
   "metadata": {
    "id": "o5oyuhF3TJh_"
   },
   "source": [
    "### Question 2\n",
    "\n",
    "We can also use other distance metrics such as L1 distance.\n",
    "For pixel values $p_{ij}^{(k)}$ at location $(i,j)$ of some image $I_k$,\n",
    "\n",
    "the mean $\\mu$ across all pixels over all images is $$\\mu=\\frac{1}{nhw}\\sum_{k=1}^n\\sum_{i=1}^{h}\\sum_{j=1}^{w}p_{ij}^{(k)}$$\n",
    "And the pixel-wise mean $\\mu_{ij}$ across all images is\n",
    "$$\\mu_{ij}=\\frac{1}{n}\\sum_{k=1}^np_{ij}^{(k)}.$$\n",
    "The general standard deviation $\\sigma$ and pixel-wise standard deviation $\\sigma_{ij}$ is defined similarly.\n",
    "\n",
    "Which of the following preprocessing steps will not change the performance of a Nearest Neighbor classifier that uses L1 distance? Select all that apply.\n",
    "1. Subtracting the mean $\\mu$ ($\\tilde{p}_{ij}^{(k)}=p_{ij}^{(k)}-\\mu$.)\n",
    "2. Subtracting the per pixel mean $\\mu_{ij}$  ($\\tilde{p}_{ij}^{(k)}=p_{ij}^{(k)}-\\mu_{ij}$.)\n",
    "3. Subtracting the mean $\\mu$ and dividing by the standard deviation $\\sigma$.\n",
    "4. Subtracting the pixel-wise mean $\\mu_{ij}$ and dividing by the pixel-wise standard deviation $\\sigma_{ij}$.\n",
    "5. Rotating the coordinate axes of the data.\n",
    "\n",
    "*Your Answer:* 1, 2, 5, 3\n",
    "\n",
    "\n",
    "*Your Explanation:*\n",
    "\n",
    "Вычитая среднее значение $\\mu$\n",
    "\n",
    "На этом этапе из каждого значения пикселя в каждом изображении вычитается глобальное среднее значение. Это не меняет относительные расстояния между точками данных, поскольку одно и то же значение 𝜇 вычитается из всех точек. Расстояние L1 остается постоянным, поэтому этот вариант приемлем.\n",
    "\n",
    "Вычитая попиксельное среднее значение $\\mu_{ij}$\n",
    "\n",
    "Подобно первому варианту, на этом этапе вычитается попиксельное среднее значение для каждого пикселя в каждом изображении. Опять же, это не меняет относительные расстояния между точками данных, поэтому расстояние L1 остается постоянным.\n",
    "\n",
    "Вращение осей координат данных:\n",
    "\n",
    "Вращение осей координат данных не меняет сами значения, а скорее меняет способ выравнивания размеров. Расстояние L1 инвариантно к повороту оси, поэтому этот шаг не повлияет на качество классификатора ближайших соседей, использующего расстояние L1.\n",
    "\n",
    "Вычитание глобального среднего и деление на глобальную дисперсию изменит расстояние между точками, однако относительное расстояние не изменится т.е. смещение и масштабирование не повлияет на работу knn с L1.\n",
    "\n"
   ]
  },
  {
   "cell_type": "markdown",
   "metadata": {
    "id": "_4trtzJfTJh_"
   },
   "source": [
    "## Question 3\n",
    "\n",
    "Which of the following statements about $k$-Nearest Neighbor ($k$-NN) are true in a classification setting, and for all $k$? Select all that apply.\n",
    "1. The decision boundary (hyperplane between classes in feature space) of the k-NN classifier is linear.\n",
    "2. The training error of a 1-NN will always be lower than that of 5-NN.\n",
    "3. The test error of a 1-NN will always be lower than that of a 5-NN.\n",
    "4. The time needed to classify a test example with the k-NN classifier grows with the size of the training set.\n",
    "5. None of the above.\n",
    "\n",
    "*Your Answer:* 4, 2\n",
    "\n",
    "\n",
    "*Your Explanation:*\n",
    "4, очевидно, верно. Чтобы классифицировать точку, мы должны вычислить расстояние до других точек в обучающем наборе и найти k слоев. Больше обучающего набора -> Больше очков -> больше вычислений -> требуется больше времени.\n",
    "\n",
    "1 неверно. Если мы возьмем евклидово расстояние в качестве меры, мы могли бы легко получить более гладкие границы решения, обведенные кружком. Рассмотрим два класса: один имеет форму луны, а другой окружает луну. Тогда граница решения будет иметь примерно форму луны.\n",
    "\n",
    "2 Это правда. Если вы используете набор обучающих данных в качестве тестового набора, то с одним ближайшим соседом, если задана точка x, ближайший сосед будет точно такой же точкой, и, следовательно, ошибка будет равна 0. Для 5-NN 0 — это меньшая точка. граница.\n",
    "\n",
    "3 Ложь. Рассмотрим пример 1d. У вас есть $x_{train}=(-5,-4,-3,-2,-1,3)$ и $y_{train}=(0,0,0,0,0,1)$. Теперь рассмотрим новую точку с x=2 и y=0. Тогда ошибка теста будет 100% для 1-nn и 0% для 5-nn.\n",
    "\n",
    "\n"
   ]
  },
  {
   "cell_type": "code",
   "execution_count": null,
   "metadata": {
    "id": "RXFhmEcFfM-W"
   },
   "outputs": [],
   "source": []
  }
 ],
 "metadata": {
  "colab": {
   "provenance": []
  },
  "kernelspec": {
   "display_name": "Python 3 (ipykernel)",
   "language": "python",
   "name": "python3"
  },
  "language_info": {
   "codemirror_mode": {
    "name": "ipython",
    "version": 3
   },
   "file_extension": ".py",
   "mimetype": "text/x-python",
   "name": "python",
   "nbconvert_exporter": "python",
   "pygments_lexer": "ipython3",
   "version": "3.9.12"
  }
 },
 "nbformat": 4,
 "nbformat_minor": 1
}
